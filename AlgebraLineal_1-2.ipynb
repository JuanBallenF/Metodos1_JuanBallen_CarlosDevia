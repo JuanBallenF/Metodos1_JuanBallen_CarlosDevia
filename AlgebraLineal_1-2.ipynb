{
 "cells": [
  {
   "cell_type": "code",
   "execution_count": 1,
   "id": "63ca155a",
   "metadata": {},
   "outputs": [],
   "source": [
    "import numpy as np"
   ]
  },
  {
   "cell_type": "code",
   "execution_count": 130,
   "id": "25870fca",
   "metadata": {},
   "outputs": [],
   "source": [
    "class LinearSystem:\n",
    "    \n",
    "    def __init__(self, M,b):\n",
    "        \n",
    "        self.M = M\n",
    "        self.b = b\n",
    "        \n",
    "    def JacobiMethod(self, itmax=1000, error=1e-10):\n",
    "        \n",
    "        rows,col = M.shape\n",
    "        it = 0\n",
    "        \n",
    "        sol = np.zeros(col)\n",
    "        \n",
    "        sumatoria = np.zeros_like(sol)\n",
    "        \n",
    "        res = np.linalg.norm(b - np.dot(M,sol))\n",
    "        \n",
    "        while res > error and it < itmax:\n",
    "            \n",
    "            for i in range(rows):\n",
    "                \n",
    "                sum_ = 0\n",
    "                \n",
    "                for j in range(col):\n",
    "                    \n",
    "                    if i != j:\n",
    "                        sum_ += M[i][j]*sol[j]\n",
    "                        \n",
    "                sumatoria[i] = sum_\n",
    "                \n",
    "            for k in range(rows):\n",
    "                \n",
    "                if M[k][k] != 0:\n",
    "                    \n",
    "                    sol[k] = (b[k] - sumatoria[k])/M[k][k]\n",
    "                    \n",
    "                else:\n",
    "                    print('No se puede solucionar con el método de Jacobi')\n",
    "                    \n",
    "            res = np.linalg.norm( b - np.dot(M,sol) )\n",
    "            \n",
    "            it += 1\n",
    "        \n",
    "        print('Iteraciones realizadas:', str(it))\n",
    "        \n",
    "        return sol\n",
    "    \n",
    "    \n",
    "    def GaussSeidelMethod(self, itmax=1000, error=1e-10):\n",
    "        \n",
    "        rows,col = M.shape\n",
    "        it = 0\n",
    "        \n",
    "        sol = np.zeros(col)\n",
    "        \n",
    "        res = np.linalg.norm(b - np.dot(M,sol))\n",
    "        \n",
    "        while res > error and it < itmax:\n",
    "            \n",
    "            for i in range(rows):\n",
    "                \n",
    "                sum_ = 0\n",
    "                \n",
    "                for j in range(col):\n",
    "                    \n",
    "                    if i != j:\n",
    "                        sum_ += M[i][j]*sol[j]\n",
    "                        \n",
    "                sol[i] = (b[i] - sum_)/M[i][i] \n",
    "                \n",
    "              \n",
    "            res = np.linalg.norm( b - np.dot(M,sol) )\n",
    "            \n",
    "            it += 1\n",
    "        \n",
    "        print('Iteraciones realizadas:', str(it))\n",
    "        \n",
    "        return sol"
   ]
  },
  {
   "cell_type": "markdown",
   "id": "e39412dd",
   "metadata": {},
   "source": [
    "# Método de Jacobi"
   ]
  },
  {
   "cell_type": "code",
   "execution_count": 136,
   "id": "d5408aef",
   "metadata": {},
   "outputs": [
    {
     "name": "stdout",
     "output_type": "stream",
     "text": [
      "[[ 3. -1. -1.]\n",
      " [-1.  3.  1.]\n",
      " [ 2.  1.  4.]]\n",
      "[1. 3. 7.]\n"
     ]
    }
   ],
   "source": [
    "M = np.array([[3,-1,-1],[-1.,3.,1.],[2,1,4]])\n",
    "print(M)\n",
    "b = np.array([1.,3.,7.])\n",
    "print(b)"
   ]
  },
  {
   "cell_type": "code",
   "execution_count": 137,
   "id": "05e0115a",
   "metadata": {},
   "outputs": [],
   "source": [
    "syst1 = LinearSystem(M,b)"
   ]
  },
  {
   "cell_type": "code",
   "execution_count": 138,
   "id": "14ccdd78",
   "metadata": {},
   "outputs": [
    {
     "name": "stdout",
     "output_type": "stream",
     "text": [
      "Iteraciones realizadas: 23\n"
     ]
    },
    {
     "data": {
      "text/plain": [
       "array([1., 1., 1.])"
      ]
     },
     "execution_count": 138,
     "metadata": {},
     "output_type": "execute_result"
    }
   ],
   "source": [
    "syst1.JacobiMethod()"
   ]
  },
  {
   "cell_type": "markdown",
   "id": "965ca1b8",
   "metadata": {},
   "source": [
    "# Método de Gauss-Seidel (Punto 1)"
   ]
  },
  {
   "cell_type": "code",
   "execution_count": 139,
   "id": "958b7f77",
   "metadata": {},
   "outputs": [],
   "source": [
    "syst2 = LinearSystem(M,b)"
   ]
  },
  {
   "cell_type": "code",
   "execution_count": 140,
   "id": "d36a45df",
   "metadata": {},
   "outputs": [
    {
     "name": "stdout",
     "output_type": "stream",
     "text": [
      "Iteraciones realizadas: 18\n"
     ]
    },
    {
     "data": {
      "text/plain": [
       "array([1., 1., 1.])"
      ]
     },
     "execution_count": 140,
     "metadata": {},
     "output_type": "execute_result"
    }
   ],
   "source": [
    "syst2.GaussSeidelMethod()"
   ]
  }
 ],
 "metadata": {
  "kernelspec": {
   "display_name": "Python 3 (ipykernel)",
   "language": "python",
   "name": "python3"
  },
  "language_info": {
   "codemirror_mode": {
    "name": "ipython",
    "version": 3
   },
   "file_extension": ".py",
   "mimetype": "text/x-python",
   "name": "python",
   "nbconvert_exporter": "python",
   "pygments_lexer": "ipython3",
   "version": "3.9.12"
  }
 },
 "nbformat": 4,
 "nbformat_minor": 5
}
