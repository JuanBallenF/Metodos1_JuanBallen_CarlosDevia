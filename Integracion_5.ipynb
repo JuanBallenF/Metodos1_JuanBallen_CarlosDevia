{
 "cells": [
  {
   "cell_type": "code",
   "execution_count": 1,
   "id": "c7f2acc1",
   "metadata": {},
   "outputs": [],
   "source": [
    "import numpy as np\n",
    "import sympy as Sym"
   ]
  },
  {
   "cell_type": "code",
   "execution_count": 2,
   "id": "29477809",
   "metadata": {},
   "outputs": [],
   "source": [
    "class Integrator:\n",
    "    \n",
    "    def __init__(self, x,y):\n",
    "        \n",
    "        self.x = x\n",
    "        self.y = y\n",
    "        self.h = self.x[1] - self.x[0]\n",
    "        \n",
    "        self.integral = 0.\n",
    "        \n",
    "    def Trapezoid(self):\n",
    "        \n",
    "        self.integral = 0.\n",
    "        \n",
    "        self.integral += 0.5*(self.y[0] + self.y[-1])\n",
    "        \n",
    "        self.integral += np.sum( self.y[1:-1] )\n",
    "        \n",
    "        return self.integral*self.h\n",
    "    \n",
    "    def GetTrapezoidError(self,f):\n",
    "        \n",
    "        d = (f( self.x + self.h ) - 2*f(self.x) + f( self.x - self.h))/self.h**2 \n",
    "        \n",
    "        \n",
    "        max_ = np.max(np.abs(d))\n",
    "        \n",
    "        self.error = (max_* (self.x[-1]-self.x[0])**3 )/(12*(len(self.x)-1)**2)\n",
    "        \n",
    "        return self.error"
   ]
  },
  {
   "cell_type": "code",
   "execution_count": 27,
   "id": "6eb72524",
   "metadata": {},
   "outputs": [],
   "source": [
    "fun = lambda x: (np.e)**(-(x**2))\n",
    "x = np.linspace(0,1,100)\n",
    "y= fun(x)"
   ]
  },
  {
   "cell_type": "code",
   "execution_count": 28,
   "id": "38303ca7",
   "metadata": {},
   "outputs": [],
   "source": [
    "int_ = Integrator(x,y)"
   ]
  },
  {
   "cell_type": "code",
   "execution_count": 29,
   "id": "ad56d4aa",
   "metadata": {},
   "outputs": [
    {
     "data": {
      "text/plain": [
       "0.7468178769764184"
      ]
     },
     "execution_count": 29,
     "metadata": {},
     "output_type": "execute_result"
    }
   ],
   "source": [
    "int_.Trapezoid()"
   ]
  },
  {
   "cell_type": "code",
   "execution_count": 30,
   "id": "fcf0e1e1",
   "metadata": {},
   "outputs": [
    {
     "data": {
      "text/plain": [
       "1.7004200022642982e-05"
      ]
     },
     "execution_count": 30,
     "metadata": {},
     "output_type": "execute_result"
    }
   ],
   "source": [
    "int_.GetTrapezoidError(fun)"
   ]
  },
  {
   "cell_type": "markdown",
   "id": "131fd0b3",
   "metadata": {},
   "source": [
    "$$ 0.74681 \\pm 0.00001  $$"
   ]
  },
  {
   "cell_type": "code",
   "execution_count": null,
   "id": "350fc1b1",
   "metadata": {},
   "outputs": [],
   "source": []
  }
 ],
 "metadata": {
  "kernelspec": {
   "display_name": "Python 3 (ipykernel)",
   "language": "python",
   "name": "python3"
  },
  "language_info": {
   "codemirror_mode": {
    "name": "ipython",
    "version": 3
   },
   "file_extension": ".py",
   "mimetype": "text/x-python",
   "name": "python",
   "nbconvert_exporter": "python",
   "pygments_lexer": "ipython3",
   "version": "3.9.12"
  }
 },
 "nbformat": 4,
 "nbformat_minor": 5
}
