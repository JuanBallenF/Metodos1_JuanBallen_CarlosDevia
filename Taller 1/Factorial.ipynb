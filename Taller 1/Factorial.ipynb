{
 "cells": [
  {
   "cell_type": "code",
   "execution_count": 35,
   "metadata": {},
   "outputs": [],
   "source": [
    "#(1) Función que calcula el factorial de un número.\n",
    "\n",
    "def calcular_factorial(n:int)->int:\n",
    "    fact = 1\n",
    "    for num in range(1, n+1):\n",
    "        fact = num*fact\n",
    "    \n",
    "    return fact"
   ]
  },
  {
   "cell_type": "code",
   "execution_count": 36,
   "metadata": {},
   "outputs": [],
   "source": [
    "#Lista con los 20 primeros números factoriales.\n",
    "\n",
    "factoriales = []\n",
    "for i in range (1, 21):\n",
    "    factoriales.append(calcular_factorial(i))\n"
   ]
  },
  {
   "cell_type": "code",
   "execution_count": 37,
   "metadata": {},
   "outputs": [
    {
     "data": {
      "text/plain": [
       "[1,\n",
       " 2,\n",
       " 6,\n",
       " 24,\n",
       " 120,\n",
       " 720,\n",
       " 5040,\n",
       " 40320,\n",
       " 362880,\n",
       " 3628800,\n",
       " 39916800,\n",
       " 479001600,\n",
       " 6227020800,\n",
       " 87178291200,\n",
       " 1307674368000,\n",
       " 20922789888000,\n",
       " 355687428096000,\n",
       " 6402373705728000,\n",
       " 121645100408832000,\n",
       " 2432902008176640000]"
      ]
     },
     "execution_count": 37,
     "metadata": {},
     "output_type": "execute_result"
    }
   ],
   "source": [
    "factoriales"
   ]
  },
  {
   "cell_type": "code",
   "execution_count": 45,
   "metadata": {},
   "outputs": [],
   "source": [
    "#(2) Función que calcula las variaciones sin repetición de n elementos tomados de r en r.\n",
    "\n",
    "def calcular_variacion(n:int, r:int)->int:\n",
    "    num = calcular_factorial(n)\n",
    "    den = calcular_factorial(n-r)\n",
    "    \n",
    "    return num/den"
   ]
  },
  {
   "cell_type": "code",
   "execution_count": 46,
   "metadata": {},
   "outputs": [
    {
     "data": {
      "text/plain": [
       "120.0"
      ]
     },
     "execution_count": 46,
     "metadata": {},
     "output_type": "execute_result"
    }
   ],
   "source": [
    "#Calcular de cuantas maneras se puede ubicar 6 carros en 3 estacionamientos.\n",
    "\n",
    "calcular_variacion(6,3)"
   ]
  },
  {
   "cell_type": "code",
   "execution_count": 51,
   "metadata": {},
   "outputs": [],
   "source": [
    "#(3) Función que calcula las combinaciones sin repetición de n elementos tomados de m en m, donde n > m.\n",
    "\n",
    "def calcular_combinacion(n:int, m:int)->int:\n",
    "    num = calcular_factorial(n)\n",
    "    den = calcular_factorial(m) * calcular_factorial(n-m)\n",
    "    \n",
    "    return int(num/den)"
   ]
  },
  {
   "cell_type": "code",
   "execution_count": 54,
   "metadata": {},
   "outputs": [
    {
     "data": {
      "text/plain": [
       "705432"
      ]
     },
     "execution_count": 54,
     "metadata": {},
     "output_type": "execute_result"
    }
   ],
   "source": [
    "# Cuantos equipos de 11 jugadores se pueden formar con 22 jugadores disponibles donde cualquiera puede ser arquero:\n",
    "\n",
    "calcular_combinacion(22, 11)"
   ]
  },
  {
   "cell_type": "code",
   "execution_count": 56,
   "metadata": {},
   "outputs": [
    {
     "data": {
      "text/plain": [
       "352716"
      ]
     },
     "execution_count": 56,
     "metadata": {},
     "output_type": "execute_result"
    }
   ],
   "source": [
    "# Cuantos equipos de 11 jugadores se pueden formar con 22 jugadores disponibles donde ya se sabe quien sera el arquero:\n",
    "\n",
    "calcular_combinacion(21, 11)"
   ]
  }
 ],
 "metadata": {
  "kernelspec": {
   "display_name": "Python 3 (ipykernel)",
   "language": "python",
   "name": "python3"
  },
  "language_info": {
   "codemirror_mode": {
    "name": "ipython",
    "version": 3
   },
   "file_extension": ".py",
   "mimetype": "text/x-python",
   "name": "python",
   "nbconvert_exporter": "python",
   "pygments_lexer": "ipython3",
   "version": "3.9.12"
  }
 },
 "nbformat": 4,
 "nbformat_minor": 4
}
