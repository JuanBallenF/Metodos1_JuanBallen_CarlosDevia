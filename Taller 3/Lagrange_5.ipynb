{
 "cells": [
  {
   "cell_type": "code",
   "execution_count": 1,
   "id": "1a71393c",
   "metadata": {},
   "outputs": [],
   "source": [
    "import numpy as np\n",
    "import matplotlib.pyplot as plt\n",
    "import sympy as sym\n",
    "from matplotlib import rc\n",
    "import pandas as pd\n",
    "import os.path as path\n",
    "import urllib.request"
   ]
  },
  {
   "cell_type": "code",
   "execution_count": 2,
   "id": "27c2d323",
   "metadata": {},
   "outputs": [
    {
     "name": "stdout",
     "output_type": "stream",
     "text": [
      "---File Found---\n"
     ]
    }
   ],
   "source": [
    "file = 'InterpolacionNewtonGregory.csv'\n",
    "url = 'https://raw.githubusercontent.com/asegura4488/Database/main/MetodosComputacionalesReforma/InterpolacionNewtonNoequi.csv'\n",
    "if not path.exists(file):\n",
    "    Path_ = urllib.request.urlretrieve(url,file)\n",
    "else:\n",
    "    print('---File Found---')\n",
    "    Path_ = file"
   ]
  },
  {
   "cell_type": "code",
   "execution_count": 3,
   "id": "6c108a6f",
   "metadata": {},
   "outputs": [],
   "source": [
    "Data = pd.read_csv(Path_, sep=',')"
   ]
  },
  {
   "cell_type": "code",
   "execution_count": 232,
   "id": "d72a0c9e",
   "metadata": {},
   "outputs": [
    {
     "data": {
      "text/html": [
       "<div>\n",
       "<style scoped>\n",
       "    .dataframe tbody tr th:only-of-type {\n",
       "        vertical-align: middle;\n",
       "    }\n",
       "\n",
       "    .dataframe tbody tr th {\n",
       "        vertical-align: top;\n",
       "    }\n",
       "\n",
       "    .dataframe thead th {\n",
       "        text-align: right;\n",
       "    }\n",
       "</style>\n",
       "<table border=\"1\" class=\"dataframe\">\n",
       "  <thead>\n",
       "    <tr style=\"text-align: right;\">\n",
       "      <th></th>\n",
       "      <th>X</th>\n",
       "      <th>Y</th>\n",
       "    </tr>\n",
       "  </thead>\n",
       "  <tbody>\n",
       "    <tr>\n",
       "      <th>0</th>\n",
       "      <td>0.0</td>\n",
       "      <td>-18</td>\n",
       "    </tr>\n",
       "    <tr>\n",
       "      <th>1</th>\n",
       "      <td>1.5</td>\n",
       "      <td>-13</td>\n",
       "    </tr>\n",
       "    <tr>\n",
       "      <th>2</th>\n",
       "      <td>2.0</td>\n",
       "      <td>0</td>\n",
       "    </tr>\n",
       "    <tr>\n",
       "      <th>3</th>\n",
       "      <td>3.8</td>\n",
       "      <td>5</td>\n",
       "    </tr>\n",
       "    <tr>\n",
       "      <th>4</th>\n",
       "      <td>4.2</td>\n",
       "      <td>3</td>\n",
       "    </tr>\n",
       "    <tr>\n",
       "      <th>5</th>\n",
       "      <td>5.9</td>\n",
       "      <td>10</td>\n",
       "    </tr>\n",
       "  </tbody>\n",
       "</table>\n",
       "</div>"
      ],
      "text/plain": [
       "     X   Y\n",
       "0  0.0 -18\n",
       "1  1.5 -13\n",
       "2  2.0   0\n",
       "3  3.8   5\n",
       "4  4.2   3\n",
       "5  5.9  10"
      ]
     },
     "execution_count": 232,
     "metadata": {},
     "output_type": "execute_result"
    }
   ],
   "source": [
    "Data"
   ]
  },
  {
   "cell_type": "code",
   "execution_count": 41,
   "id": "f1b655d5",
   "metadata": {},
   "outputs": [],
   "source": [
    "x_values = np.float64(Data['X'])\n",
    "y_values = np.float64(Data['Y'])"
   ]
  },
  {
   "cell_type": "code",
   "execution_count": 241,
   "id": "5430b40b",
   "metadata": {},
   "outputs": [],
   "source": [
    "def NewtonGregory(X,Y,x):\n",
    "    \n",
    "    Sum_ = Y[0]\n",
    "    \n",
    "    Diff = np.zeros((len(X),len(Y)))\n",
    "    Diff[:,0] = Y\n",
    "\n",
    "    h = X[1] - X[0]\n",
    "           \n",
    "    poly = 1.0\n",
    "    \n",
    "    for i in range(1,len(X)):\n",
    "        \n",
    "        poly *= ( x - X[i-1] )\n",
    "        \n",
    "        for j in range(i, len(Y)):\n",
    "            \n",
    "            Diff[j,i] = Diff[j,i-1]-Diff[j-1,i-1]\n",
    "          \n",
    "        Sum_ += poly*(Diff[i,i])/(np.math.factorial(i)*(h**(i)))\n",
    "        \n",
    "    return Sum_,np.round(Diff,2)"
   ]
  },
  {
   "cell_type": "code",
   "execution_count": 248,
   "id": "cb7e012e",
   "metadata": {},
   "outputs": [],
   "source": [
    "x = np.linspace(np.min(x_values), np.max(x_values), 100)\n",
    "y,Diff = NewtonGregory(x_values, y_values, x)"
   ]
  },
  {
   "cell_type": "code",
   "execution_count": 249,
   "id": "47c112ad",
   "metadata": {},
   "outputs": [
    {
     "data": {
      "text/plain": [
       "array([[-18.,   0.,   0.,   0.,   0.,   0.],\n",
       "       [-13.,   5.,   0.,   0.,   0.,   0.],\n",
       "       [  0.,  13.,   8.,   0.,   0.,   0.],\n",
       "       [  5.,   5.,  -8., -16.,   0.,   0.],\n",
       "       [  3.,  -2.,  -7.,   1.,  17.,   0.],\n",
       "       [ 10.,   7.,   9.,  16.,  15.,  -2.]])"
      ]
     },
     "execution_count": 249,
     "metadata": {},
     "output_type": "execute_result"
    }
   ],
   "source": [
    "Diff"
   ]
  },
  {
   "cell_type": "code",
   "execution_count": 250,
   "id": "ec63d36f",
   "metadata": {},
   "outputs": [
    {
     "data": {
      "text/plain": [
       "[<matplotlib.lines.Line2D at 0x249533eba90>]"
      ]
     },
     "execution_count": 250,
     "metadata": {},
     "output_type": "execute_result"
    },
    {
     "data": {
      "image/png": "[encoded data removed]",
      "text/plain": [
       "<Figure size 432x288 with 1 Axes>"
      ]
     },
     "metadata": {
      "needs_background": "light"
     },
     "output_type": "display_data"
    }
   ],
   "source": [
    "plt.scatter(x_values,y_values, color='red')\n",
    "plt.plot(x,y, color='blue')"
   ]
  },
  {
   "cell_type": "code",
   "execution_count": 112,
   "id": "ce0d0b82",
   "metadata": {},
   "outputs": [],
   "source": [
    "x = sym.Symbol('X',Real=True)\n",
    "f, _ = NewtonGregory(x_values,y_values,x)"
   ]
  },
  {
   "cell_type": "code",
   "execution_count": 114,
   "id": "89b07eba",
   "metadata": {},
   "outputs": [
    {
     "data": {
      "text/latex": [
       "$\\displaystyle - 0.00219478737997257 X^{5} + 0.165157750342936 X^{4} - 1.91458984910837 X^{3} + 6.99914403292181 X^{2} - 3.40385185185185 X - 18.0$"
      ],
      "text/plain": [
       "-0.00219478737997257*X**5 + 0.165157750342936*X**4 - 1.91458984910837*X**3 + 6.99914403292181*X**2 - 3.40385185185185*X - 18.0"
      ]
     },
     "execution_count": 114,
     "metadata": {},
     "output_type": "execute_result"
    }
   ],
   "source": [
    "f = sym.simplify(f)\n",
    "f"
   ]
  },
  {
   "cell_type": "code",
   "execution_count": 107,
   "id": "ce8ca9f9",
   "metadata": {},
   "outputs": [
    {
     "data": {
      "text/plain": [
       "array([[-18.,   0.,   0.,   0.,   0.,   0.],\n",
       "       [-13.,   5.,   0.,   0.,   0.,   0.],\n",
       "       [  0.,  13.,   8.,   0.,   0.,   0.],\n",
       "       [  5.,   5.,  -8., -16.,   0.,   0.],\n",
       "       [  3.,  -2.,  -7.,   1.,  17.,   0.],\n",
       "       [ 10.,   7.,   9.,  16.,  15.,  -2.]])"
      ]
     },
     "execution_count": 107,
     "metadata": {},
     "output_type": "execute_result"
    }
   ],
   "source": [
    "Diff"
   ]
  },
  {
   "cell_type": "code",
   "execution_count": null,
   "id": "5877f049",
   "metadata": {},
   "outputs": [],
   "source": []
  }
 ],
 "metadata": {
  "kernelspec": {
   "display_name": "Python 3 (ipykernel)",
   "language": "python",
   "name": "python3"
  },
  "language_info": {
   "codemirror_mode": {
    "name": "ipython",
    "version": 3
   },
   "file_extension": ".py",
   "mimetype": "text/x-python",
   "name": "python",
   "nbconvert_exporter": "python",
   "pygments_lexer": "ipython3",
   "version": "3.9.12"
  }
 },
 "nbformat": 4,
 "nbformat_minor": 5
}
