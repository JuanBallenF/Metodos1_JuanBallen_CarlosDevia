{
 "cells": [
  {
   "cell_type": "code",
   "execution_count": 1,
   "id": "28aa4c64",
   "metadata": {},
   "outputs": [],
   "source": [
    "import numpy as np\n",
    "import matplotlib.pyplot as plt\n",
    "import sympy as sym"
   ]
  },
  {
   "cell_type": "code",
   "execution_count": 10,
   "id": "fba8aa9d",
   "metadata": {},
   "outputs": [],
   "source": [
    "def GetLegendre(n):\n",
    "    \n",
    "    x = sym.Symbol('x',Real=True)\n",
    "    y = sym.Symbol('y',Real=True)\n",
    "    \n",
    "    y = (x**2 - 1)**n\n",
    "    \n",
    "    poly = sym.diff(y,x,n)/(2**n * np.math.factorial(n))\n",
    "    \n",
    "    return poly"
   ]
  },
  {
   "cell_type": "code",
   "execution_count": 39,
   "id": "c7d8dae7",
   "metadata": {},
   "outputs": [],
   "source": [
    "def GetNewtonMethod(f,df,xn,itmax = 100000, precision=1e-12):\n",
    "    \n",
    "    error = 1.\n",
    "    it = 0\n",
    "    \n",
    "    while error > precision and it < itmax:\n",
    "        \n",
    "        try:\n",
    "            \n",
    "            xn1 = xn - f(xn)/df(xn)\n",
    "            \n",
    "            error = np.abs(f(xn)/df(xn))\n",
    "        \n",
    "        except ZeroDivisionError:\n",
    "            print(\"zero division\")\n",
    "            \n",
    "        xn  = xn1\n",
    "        it += 1\n",
    "    \n",
    "    if it == itmax:\n",
    "        return False\n",
    "    else:\n",
    "        return xn"
   ]
  },
  {
   "cell_type": "code",
   "execution_count": 40,
   "id": "4fc027e8",
   "metadata": {},
   "outputs": [],
   "source": [
    "def GetAllRoots(f,df,x, tolerancia=9):\n",
    "    \n",
    "    Roots = np.array([])\n",
    "    \n",
    "    for i in x:\n",
    "        \n",
    "        root = GetNewtonMethod(f,df,i)\n",
    "          \n",
    "        if root != False:\n",
    "            \n",
    "            croot = np.round( root, tolerancia ) \n",
    "            \n",
    "            if croot not in Roots:\n",
    "                Roots = np.append( Roots, croot )\n",
    "                \n",
    "    Roots.sort()\n",
    "    \n",
    "    return Roots"
   ]
  },
  {
   "cell_type": "code",
   "execution_count": 79,
   "id": "160b6a5b",
   "metadata": {},
   "outputs": [],
   "source": [
    "Legendre = []\n",
    "for i in range(1,21):\n",
    "    Legendre.append(GetLegendre(i))"
   ]
  },
  {
   "cell_type": "markdown",
   "id": "3c37acd3",
   "metadata": {},
   "source": [
    "# Raíces"
   ]
  },
  {
   "cell_type": "code",
   "execution_count": 89,
   "id": "5f9a391e",
   "metadata": {},
   "outputs": [],
   "source": [
    "def GetRootsLegendre(n,xi,poly,dpoly):\n",
    "    \n",
    "    x = sym.Symbol('x',Real=True)\n",
    "    \n",
    "    pn = sym.lambdify([x],poly[n],'numpy')\n",
    "    dpn = sym.lambdify([x],dpoly[n],'numpy')\n",
    "    Roots = GetAllRoots(pn,dpn,xi,tolerancia=8)\n",
    "    \n",
    "    return Roots"
   ]
  },
  {
   "cell_type": "code",
   "execution_count": 92,
   "id": "5920a947",
   "metadata": {},
   "outputs": [],
   "source": [
    "DerLegendre = []\n",
    "x = sym.Symbol('x', Real=True)\n",
    "for i in Legendre:\n",
    "    DerLegendre.append(sym.diff(i,x,1))"
   ]
  },
  {
   "cell_type": "code",
   "execution_count": 81,
   "id": "ee01f04b",
   "metadata": {},
   "outputs": [],
   "source": [
    "x_0 = np.linspace(-1,1,100)"
   ]
  },
  {
   "cell_type": "code",
   "execution_count": 103,
   "id": "8df54c9e",
   "metadata": {},
   "outputs": [],
   "source": [
    "Roots = []\n",
    "for i in range(len(Legendre)):\n",
    "    f = sym.lambdify([x],Legendre[i], 'numpy')\n",
    "    df = sym.lambdify([x], DerLegendre[i], 'numpy')\n",
    "    Roots.append(GetAllRoots(f, df, x_0))"
   ]
  },
  {
   "cell_type": "code",
   "execution_count": 154,
   "id": "9761820a",
   "metadata": {},
   "outputs": [
    {
     "name": "stdout",
     "output_type": "stream",
     "text": [
      "Las raíces del polinomio de grado 1 de Legendre son: 0.0, \n",
      "Las raíces del polinomio de grado 2 de Legendre son: -0.577350269, 0.577350269, \n",
      "Las raíces del polinomio de grado 3 de Legendre son: -0.774596669, 0.774596669, 0.0, \n",
      "Las raíces del polinomio de grado 4 de Legendre son: -0.861136312, -0.339981044, 0.339981044, 0.861136312, \n",
      "Las raíces del polinomio de grado 5 de Legendre son: -0.906179846, -0.53846931, 0.53846931, 0.906179846, 0.0, \n",
      "Las raíces del polinomio de grado 6 de Legendre son: -0.932469514, -0.661209386, -0.238619186, 0.238619186, 0.661209386, 0.932469514, \n",
      "Las raíces del polinomio de grado 7 de Legendre son: -0.949107912, -0.741531186, -0.405845151, 0.405845151, 0.741531186, 0.949107912, 0.0, \n",
      "Las raíces del polinomio de grado 8 de Legendre son: -0.960289856, -0.796666477, -0.52553241, -0.183434642, 0.183434642, 0.52553241, 0.796666477, 0.960289856, \n",
      "Las raíces del polinomio de grado 9 de Legendre son: -0.96816024, -0.836031107, -0.613371433, -0.324253423, 0.324253423, 0.613371433, 0.836031107, 0.96816024, 0.0, \n",
      "Las raíces del polinomio de grado 10 de Legendre son: -0.973906529, -0.865063367, -0.679409568, -0.433395394, -0.148874339, 0.148874339, 0.433395394, 0.679409568, 0.865063367, 0.973906529, \n",
      "Las raíces del polinomio de grado 11 de Legendre son: -0.978228658, -0.8870626, -0.730152006, -0.519096129, -0.269543156, 0.269543156, 0.519096129, 0.730152006, 0.8870626, 0.978228658, 0.0, \n",
      "Las raíces del polinomio de grado 12 de Legendre son: -0.981560634, -0.904117256, -0.769902674, -0.587317954, -0.367831499, -0.125233409, 0.125233409, 0.367831499, 0.587317954, 0.769902674, 0.904117256, 0.981560634, \n",
      "Las raíces del polinomio de grado 13 de Legendre son: -0.984183055, -0.917598399, -0.801578091, -0.642349339, -0.448492751, -0.230458316, 0.230458316, 0.448492751, 0.642349339, 0.801578091, 0.917598399, 0.984183055, 0.0, \n",
      "Las raíces del polinomio de grado 14 de Legendre son: -0.986283809, -0.928434884, -0.827201315, -0.687292905, -0.515248636, -0.319112369, -0.108054949, 0.108054949, 0.319112369, 0.515248636, 0.687292905, 0.827201315, 0.928434884, 0.986283809, \n",
      "Las raíces del polinomio de grado 15 de Legendre son: -0.987992518, -0.937273392, -0.848206583, -0.724417731, -0.570972173, -0.394151347, -0.201194094, 0.201194094, 0.394151347, 0.570972173, 0.724417731, 0.848206583, 0.937273392, 0.987992518, 0.0, \n",
      "Las raíces del polinomio de grado 16 de Legendre son: -0.989400935, -0.944575023, -0.865631202, -0.755404408, -0.617876244, -0.458016778, -0.281603551, -0.09501251, 0.09501251, 0.281603551, 0.458016778, 0.617876244, 0.755404408, 0.865631202, 0.944575023, 0.989400935, \n",
      "Las raíces del polinomio de grado 17 de Legendre son: -0.990575475, -0.950675522, -0.880239154, -0.781514004, -0.657671159, -0.512690537, -0.351231763, -0.178484181, 0.178484181, 0.351231763, 0.512690537, 0.657671159, 0.781514004, 0.880239154, 0.950675522, 0.990575475, 0.0, \n",
      "Las raíces del polinomio de grado 18 de Legendre son: -0.991565168, -0.95582395, -0.892602466, -0.803704959, -0.691687043, -0.559770831, -0.411751161, -0.251886226, -0.084775013, 0.084775013, 0.251886226, 0.411751161, 0.559770831, 0.691687043, 0.803704959, 0.892602466, 0.95582395, 0.991565168, \n",
      "Las raíces del polinomio de grado 19 de Legendre son: -0.992406844, -0.960208152, -0.903155904, -0.822714657, -0.720966177, -0.600545305, -0.464570741, -0.3165641, -0.160358646, 0.160358646, 0.3165641, 0.464570741, 0.600545305, 0.720966177, 0.822714657, 0.903155904, 0.960208152, 0.992406844, 0.0, \n",
      "Las raíces del polinomio de grado 20 de Legendre son: -0.993128599, -0.963971927, -0.912234428, -0.839116972, -0.746331906, -0.636053681, -0.510867002, -0.373706089, -0.227785851, -0.076526521, 0.076526521, 0.227785851, 0.373706089, 0.510867002, 0.636053681, 0.746331906, 0.839116972, 0.912234428, 0.963971927, 0.993128599, \n"
     ]
    }
   ],
   "source": [
    "for i in range(20):\n",
    "    a = Roots[i]\n",
    "    if a.size != i+1:\n",
    "        Roots[i] = np.append(Roots[i],0)\n",
    "        Roots[i] = np.sort(Roots[i])\n",
    "    texto = ''\n",
    "    for j in Roots[i]:\n",
    "        texto = texto + str(j) + ', '\n",
    "    print(('Las raíces del polinomio de grado ') + str(i+1) + ' de Legendre son: ' + texto)\n",
    "        "
   ]
  }
 ],
 "metadata": {
  "kernelspec": {
   "display_name": "Python 3 (ipykernel)",
   "language": "python",
   "name": "python3"
  },
  "language_info": {
   "codemirror_mode": {
    "name": "ipython",
    "version": 3
   },
   "file_extension": ".py",
   "mimetype": "text/x-python",
   "name": "python",
   "nbconvert_exporter": "python",
   "pygments_lexer": "ipython3",
   "version": "3.9.12"
  }
 },
 "nbformat": 4,
 "nbformat_minor": 5
}
