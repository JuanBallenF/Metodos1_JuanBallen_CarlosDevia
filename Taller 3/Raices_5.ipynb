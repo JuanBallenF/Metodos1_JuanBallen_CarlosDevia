{
 "cells": [
  {
   "cell_type": "code",
   "execution_count": 1,
   "id": "46efc775",
   "metadata": {},
   "outputs": [],
   "source": [
    "import numpy as np\n",
    "import matplotlib.pyplot as plt\n",
    "import sympy as sym"
   ]
  },
  {
   "cell_type": "code",
   "execution_count": 2,
   "id": "e298d281",
   "metadata": {},
   "outputs": [],
   "source": [
    "def GetLaguerre(n):\n",
    "    \n",
    "    x = sym.Symbol('x',Real=True)\n",
    "    y = sym.Symbol('y',Real=True)\n",
    "    \n",
    "    y = sym.exp(-x)*x**n\n",
    "    \n",
    "    p = sym.exp(x)*sym.diff(y,x,n)/(np.math.factorial(n))\n",
    "    \n",
    "    return p"
   ]
  },
  {
   "cell_type": "code",
   "execution_count": 121,
   "id": "c32bc6e9",
   "metadata": {},
   "outputs": [],
   "source": [
    "def GetNewtonMethod(f,df,xn,itmax = 10000, precision=1e-5):\n",
    "    \n",
    "    error = 1.\n",
    "    it = 0\n",
    "    \n",
    "    while error > precision and it < itmax:\n",
    "        \n",
    "        try:\n",
    "            \n",
    "            xn1 = xn - f(xn)/df(xn)\n",
    "            \n",
    "            error = np.abs(f(xn)/df(xn))\n",
    "        \n",
    "        except ZeroDivisionError:\n",
    "            print(\"zero division\")\n",
    "            \n",
    "        xn  = xn1\n",
    "        it += 1\n",
    "    \n",
    "    if it == itmax:\n",
    "        return False\n",
    "    else:\n",
    "        return xn"
   ]
  },
  {
   "cell_type": "code",
   "execution_count": 112,
   "id": "86569c11",
   "metadata": {},
   "outputs": [],
   "source": [
    "def GetAllRootsLaguerre(f,df,n, tolerancia=9):\n",
    "    \n",
    "    Roots = np.array([])\n",
    "    x_lim = 100\n",
    "    \n",
    "    while len(Roots) != n:\n",
    "\n",
    "        x_lim += 300\n",
    "        x = np.linspace(0,x_lim,x_lim)\n",
    "\n",
    "    \n",
    "    \n",
    "    \n",
    "        for i in x:\n",
    "        \n",
    "            root = GetNewtonMethod(f,df,i)\n",
    "          \n",
    "            if root != False:\n",
    "            \n",
    "                croot = np.round( root, tolerancia ) \n",
    "            \n",
    "                if croot not in Roots:\n",
    "                    Roots = np.append( Roots, croot )\n",
    "                \n",
    "        Roots.sort()\n",
    "\n",
    "    return Roots"
   ]
  },
  {
   "cell_type": "code",
   "execution_count": 96,
   "id": "ece4c8bd",
   "metadata": {},
   "outputs": [],
   "source": [
    "Laguerre = []\n",
    "for i in range(1,21):\n",
    "    Laguerre.append(GetLaguerre(i))"
   ]
  },
  {
   "cell_type": "markdown",
   "id": "f503fc8d",
   "metadata": {},
   "source": [
    "# Raíces"
   ]
  },
  {
   "cell_type": "code",
   "execution_count": 82,
   "id": "285321e6",
   "metadata": {},
   "outputs": [],
   "source": [
    "def GetRootsLaguerre(n,xi,poly,dpoly):\n",
    "    \n",
    "    x = sym.Symbol('x',Real=True)\n",
    "    \n",
    "    pn = sym.lambdify([x],poly[n],'numpy')\n",
    "    dpn = sym.lambdify([x],dpoly[n],'numpy')\n",
    "    Roots = GetAllRoots(pn,dpn,xi,tolerancia=8)\n",
    "    \n",
    "    return Roots"
   ]
  },
  {
   "cell_type": "code",
   "execution_count": 83,
   "id": "46f53ea1",
   "metadata": {},
   "outputs": [],
   "source": [
    "DerLaguerre = []\n",
    "x = sym.Symbol('x', Real=True)\n",
    "for i in Laguerre:\n",
    "    DerLaguerre.append(sym.diff(i,x,1))"
   ]
  },
  {
   "cell_type": "code",
   "execution_count": null,
   "id": "0be4beac",
   "metadata": {},
   "outputs": [],
   "source": []
  },
  {
   "cell_type": "code",
   "execution_count": 122,
   "id": "b0425521",
   "metadata": {},
   "outputs": [
    {
     "name": "stdout",
     "output_type": "stream",
     "text": [
      "Las raíces del polinomio de Laguerre de grado 1 son: [1.]\n",
      "Las raíces del polinomio de Laguerre de grado 2 son: [0.58578644 3.41421356]\n",
      "Las raíces del polinomio de Laguerre de grado 3 son: [0.41577456 2.29428036 6.28994508]\n",
      "Las raíces del polinomio de Laguerre de grado 4 son: [0.32254769 1.7457611  4.5366203  9.39507091]\n",
      "Las raíces del polinomio de Laguerre de grado 5 son: [ 0.26356032  1.41340306  3.59642577  7.08581001 12.64080084]\n",
      "Las raíces del polinomio de Laguerre de grado 6 son: [ 0.2228466   1.1889321   2.99273633  5.77514357  9.83746742 15.98287398]\n",
      "Las raíces del polinomio de Laguerre de grado 7 son: [ 0.19304368  1.02666489  2.56787674  4.90035308  8.18215345 12.73418029\n",
      " 19.39572786]\n",
      "Las raíces del polinomio de Laguerre de grado 8 son: [ 0.17027963  0.90370178  2.25108663  4.26670017  7.0459054  10.75851601\n",
      " 15.74067864 22.86313174]\n",
      "Las raíces del polinomio de Laguerre de grado 9 son: [ 0.15232223  0.80722002  2.00513516  3.78347397  6.20495678  9.37298525\n",
      " 13.46623691 18.83359779 26.37407189]\n",
      "Las raíces del polinomio de Laguerre de grado 10 son: [ 0.13779347  0.72945455  1.8083429   3.4014337   5.55249614  8.33015275\n",
      " 11.84378584 16.27925783 21.99658581 29.92069701]\n",
      "Las raíces del polinomio de Laguerre de grado 11 son: [ 0.12579644  0.66541826  1.64715055  3.09113814  5.0292844   7.50988786\n",
      " 10.605951   14.43161376 19.1788574  25.21770934 33.49719285]\n",
      "Las raíces del polinomio de Laguerre de grado 12 son: [ 0.11572212  2.83375134  4.59922764  6.84452545  9.62131684  9.62131684\n",
      " 13.00605499 17.11685519 22.15109038 28.48796725 37.09912104 37.09912104]\n"
     ]
    },
    {
     "ename": "KeyboardInterrupt",
     "evalue": "",
     "output_type": "error",
     "traceback": [
      "\u001b[1;31m---------------------------------------------------------------------------\u001b[0m",
      "\u001b[1;31mKeyboardInterrupt\u001b[0m                         Traceback (most recent call last)",
      "Input \u001b[1;32mIn [122]\u001b[0m, in \u001b[0;36m<cell line: 2>\u001b[1;34m()\u001b[0m\n\u001b[0;32m      3\u001b[0m f \u001b[38;5;241m=\u001b[39m sym\u001b[38;5;241m.\u001b[39mlambdify([x],Laguerre[i], \u001b[38;5;124m'\u001b[39m\u001b[38;5;124mnumpy\u001b[39m\u001b[38;5;124m'\u001b[39m)\n\u001b[0;32m      4\u001b[0m df \u001b[38;5;241m=\u001b[39m sym\u001b[38;5;241m.\u001b[39mlambdify([x], DerLaguerre[i], \u001b[38;5;124m'\u001b[39m\u001b[38;5;124mnumpy\u001b[39m\u001b[38;5;124m'\u001b[39m)\n\u001b[1;32m----> 5\u001b[0m Roots\u001b[38;5;241m.\u001b[39mappend(\u001b[43mGetAllRootsLaguerre\u001b[49m\u001b[43m(\u001b[49m\u001b[43mf\u001b[49m\u001b[43m,\u001b[49m\u001b[43m \u001b[49m\u001b[43mdf\u001b[49m\u001b[43m,\u001b[49m\u001b[43m \u001b[49m\u001b[43mi\u001b[49m\u001b[38;5;241;43m+\u001b[39;49m\u001b[38;5;241;43m1\u001b[39;49m\u001b[43m)\u001b[49m)\n\u001b[0;32m      6\u001b[0m \u001b[38;5;28mprint\u001b[39m((\u001b[38;5;124m'\u001b[39m\u001b[38;5;124mLas raíces del polinomio de Laguerre de grado \u001b[39m\u001b[38;5;124m'\u001b[39m) \u001b[38;5;241m+\u001b[39m \u001b[38;5;28mstr\u001b[39m(i\u001b[38;5;241m+\u001b[39m\u001b[38;5;241m1\u001b[39m) \u001b[38;5;241m+\u001b[39m \u001b[38;5;124m'\u001b[39m\u001b[38;5;124m son: \u001b[39m\u001b[38;5;124m'\u001b[39m \u001b[38;5;241m+\u001b[39m \u001b[38;5;28mstr\u001b[39m(Roots[i]))\n",
      "Input \u001b[1;32mIn [112]\u001b[0m, in \u001b[0;36mGetAllRootsLaguerre\u001b[1;34m(f, df, n, tolerancia)\u001b[0m\n\u001b[0;32m      9\u001b[0m x \u001b[38;5;241m=\u001b[39m np\u001b[38;5;241m.\u001b[39mlinspace(\u001b[38;5;241m0\u001b[39m,x_lim,x_lim)\n\u001b[0;32m     14\u001b[0m \u001b[38;5;28;01mfor\u001b[39;00m i \u001b[38;5;129;01min\u001b[39;00m x:\n\u001b[1;32m---> 16\u001b[0m     root \u001b[38;5;241m=\u001b[39m \u001b[43mGetNewtonMethod\u001b[49m\u001b[43m(\u001b[49m\u001b[43mf\u001b[49m\u001b[43m,\u001b[49m\u001b[43mdf\u001b[49m\u001b[43m,\u001b[49m\u001b[43mi\u001b[49m\u001b[43m)\u001b[49m\n\u001b[0;32m     18\u001b[0m     \u001b[38;5;28;01mif\u001b[39;00m root \u001b[38;5;241m!=\u001b[39m \u001b[38;5;28;01mFalse\u001b[39;00m:\n\u001b[0;32m     20\u001b[0m         croot \u001b[38;5;241m=\u001b[39m np\u001b[38;5;241m.\u001b[39mround( root, tolerancia ) \n",
      "Input \u001b[1;32mIn [121]\u001b[0m, in \u001b[0;36mGetNewtonMethod\u001b[1;34m(f, df, xn, itmax, precision)\u001b[0m\n\u001b[0;32m      6\u001b[0m \u001b[38;5;28;01mwhile\u001b[39;00m error \u001b[38;5;241m>\u001b[39m precision \u001b[38;5;129;01mand\u001b[39;00m it \u001b[38;5;241m<\u001b[39m itmax:\n\u001b[0;32m      8\u001b[0m     \u001b[38;5;28;01mtry\u001b[39;00m:\n\u001b[1;32m---> 10\u001b[0m         xn1 \u001b[38;5;241m=\u001b[39m xn \u001b[38;5;241m-\u001b[39m f(xn)\u001b[38;5;241m/\u001b[39m\u001b[43mdf\u001b[49m\u001b[43m(\u001b[49m\u001b[43mxn\u001b[49m\u001b[43m)\u001b[49m\n\u001b[0;32m     12\u001b[0m         error \u001b[38;5;241m=\u001b[39m np\u001b[38;5;241m.\u001b[39mabs(f(xn)\u001b[38;5;241m/\u001b[39mdf(xn))\n\u001b[0;32m     14\u001b[0m     \u001b[38;5;28;01mexcept\u001b[39;00m \u001b[38;5;167;01mZeroDivisionError\u001b[39;00m:\n",
      "File \u001b[1;32m<lambdifygenerated-516>:2\u001b[0m, in \u001b[0;36m_lambdifygenerated\u001b[1;34m(x)\u001b[0m\n\u001b[0;32m      1\u001b[0m \u001b[38;5;28;01mdef\u001b[39;00m \u001b[38;5;21m_lambdifygenerated\u001b[39m(x):\n\u001b[1;32m----> 2\u001b[0m     \u001b[38;5;28;01mreturn\u001b[39;00m \u001b[38;5;241m-\u001b[39m\u001b[38;5;241m1\u001b[39m\u001b[38;5;241m/\u001b[39m\u001b[38;5;241m479001600\u001b[39m\u001b[38;5;241m*\u001b[39mx\u001b[38;5;241m*\u001b[39m\u001b[38;5;241m*\u001b[39m\u001b[38;5;241m12\u001b[39m \u001b[38;5;241m+\u001b[39m \u001b[43m(\u001b[49m\u001b[38;5;241;43m13\u001b[39;49m\u001b[38;5;241;43m/\u001b[39;49m\u001b[38;5;241;43m39916800\u001b[39;49m\u001b[43m)\u001b[49m\u001b[38;5;241;43m*\u001b[39;49m\u001b[43mx\u001b[49m\u001b[38;5;241;43m*\u001b[39;49m\u001b[38;5;241;43m*\u001b[39;49m\u001b[38;5;241;43m11\u001b[39;49m \u001b[38;5;241m-\u001b[39m \u001b[38;5;241m13\u001b[39m\u001b[38;5;241m/\u001b[39m\u001b[38;5;241m604800\u001b[39m\u001b[38;5;241m*\u001b[39mx\u001b[38;5;241m*\u001b[39m\u001b[38;5;241m*\u001b[39m\u001b[38;5;241m10\u001b[39m \u001b[38;5;241m+\u001b[39m (\u001b[38;5;241m143\u001b[39m\u001b[38;5;241m/\u001b[39m\u001b[38;5;241m181440\u001b[39m)\u001b[38;5;241m*\u001b[39mx\u001b[38;5;241m*\u001b[39m\u001b[38;5;241m*\u001b[39m\u001b[38;5;241m9\u001b[39m \u001b[38;5;241m-\u001b[39m \u001b[38;5;241m143\u001b[39m\u001b[38;5;241m/\u001b[39m\u001b[38;5;241m8064\u001b[39m\u001b[38;5;241m*\u001b[39mx\u001b[38;5;241m*\u001b[39m\u001b[38;5;241m*\u001b[39m\u001b[38;5;241m8\u001b[39m \u001b[38;5;241m+\u001b[39m (\u001b[38;5;241m143\u001b[39m\u001b[38;5;241m/\u001b[39m\u001b[38;5;241m560\u001b[39m)\u001b[38;5;241m*\u001b[39mx\u001b[38;5;241m*\u001b[39m\u001b[38;5;241m*\u001b[39m\u001b[38;5;241m7\u001b[39m \u001b[38;5;241m-\u001b[39m \u001b[38;5;241m143\u001b[39m\u001b[38;5;241m/\u001b[39m\u001b[38;5;241m60\u001b[39m\u001b[38;5;241m*\u001b[39mx\u001b[38;5;241m*\u001b[39m\u001b[38;5;241m*\u001b[39m\u001b[38;5;241m6\u001b[39m \u001b[38;5;241m+\u001b[39m (\u001b[38;5;241m143\u001b[39m\u001b[38;5;241m/\u001b[39m\u001b[38;5;241m10\u001b[39m)\u001b[38;5;241m*\u001b[39mx\u001b[38;5;241m*\u001b[39m\u001b[38;5;241m*\u001b[39m\u001b[38;5;241m5\u001b[39m \u001b[38;5;241m-\u001b[39m \u001b[38;5;241m429\u001b[39m\u001b[38;5;241m/\u001b[39m\u001b[38;5;241m8\u001b[39m\u001b[38;5;241m*\u001b[39mx\u001b[38;5;241m*\u001b[39m\u001b[38;5;241m*\u001b[39m\u001b[38;5;241m4\u001b[39m \u001b[38;5;241m+\u001b[39m (\u001b[38;5;241m715\u001b[39m\u001b[38;5;241m/\u001b[39m\u001b[38;5;241m6\u001b[39m)\u001b[38;5;241m*\u001b[39mx\u001b[38;5;241m*\u001b[39m\u001b[38;5;241m*\u001b[39m\u001b[38;5;241m3\u001b[39m \u001b[38;5;241m-\u001b[39m \u001b[38;5;241m143\u001b[39m\u001b[38;5;241m*\u001b[39mx\u001b[38;5;241m*\u001b[39m\u001b[38;5;241m*\u001b[39m\u001b[38;5;241m2\u001b[39m \u001b[38;5;241m+\u001b[39m \u001b[38;5;241m78\u001b[39m\u001b[38;5;241m*\u001b[39mx \u001b[38;5;241m-\u001b[39m \u001b[38;5;241m13\u001b[39m\n",
      "\u001b[1;31mKeyboardInterrupt\u001b[0m: "
     ]
    }
   ],
   "source": [
    "Roots = []\n",
    "for i in range(len(Laguerre)):\n",
    "    f = sym.lambdify([x],Laguerre[i], 'numpy')\n",
    "    df = sym.lambdify([x], DerLaguerre[i], 'numpy')\n",
    "    Roots.append(GetAllRootsLaguerre(f, df, i+1))\n",
    "    print(('Las raíces del polinomio de Laguerre de grado ') + str(i+1) + ' son: ' + str(Roots[i]))"
   ]
  },
  {
   "cell_type": "code",
   "execution_count": null,
   "id": "148a8f87",
   "metadata": {},
   "outputs": [],
   "source": []
  }
 ],
 "metadata": {
  "kernelspec": {
   "display_name": "Python 3 (ipykernel)",
   "language": "python",
   "name": "python3"
  },
  "language_info": {
   "codemirror_mode": {
    "name": "ipython",
    "version": 3
   },
   "file_extension": ".py",
   "mimetype": "text/x-python",
   "name": "python",
   "nbconvert_exporter": "python",
   "pygments_lexer": "ipython3",
   "version": "3.9.12"
  }
 },
 "nbformat": 4,
 "nbformat_minor": 5
}
