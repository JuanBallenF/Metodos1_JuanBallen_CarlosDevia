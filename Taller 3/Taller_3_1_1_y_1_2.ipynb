{
  "nbformat": 4,
  "nbformat_minor": 0,
  "metadata": {
    "colab": {
      "provenance": [],
      "collapsed_sections": []
    },
    "kernelspec": {
      "name": "python3",
      "display_name": "Python 3"
    },
    "language_info": {
      "name": "python"
    }
  },
  "cells": [
    {
      "cell_type": "code",
      "execution_count": null,
      "metadata": {
        "id": "Ez577yiznlTo"
      },
      "outputs": [],
      "source": []
    },
    {
      "cell_type": "markdown",
      "source": [
        "### 1. **¿De qué tipo es el error asociado a la estimación de raíces usando el método de Newton-Raphson?**"
      ],
      "metadata": {
        "id": "ZepaZmCvMU76"
      }
    },
    {
      "cell_type": "markdown",
      "source": [
        "El tipo de error asociado a la estimación al usar el método de Newton-Raphson es el error de Truncamiento. Esto debido a que se usan aproximaciones en lugar de las expresiones exactas. Se busca obtener la mayor aproximación de las raíces al expandir la funcion f(x) al rededor de un x_n y por esto se da este error. \n"
      ],
      "metadata": {
        "id": "zkvuQYuYMlFp"
      }
    },
    {
      "cell_type": "markdown",
      "source": [
        "### **2. ¿Cómo ajustar la precisión para estimar raíces con el método de Newton-Raphson?**"
      ],
      "metadata": {
        "id": "Ty1xNuuFNvcj"
      }
    },
    {
      "cell_type": "markdown",
      "source": [
        "Para ajustar la precisión al estimar raíces con el método Newton-Raphson se debe complejizar la formulación un poco más e incrementar el número de las operaciones. Cuantos más términos se consideren, por ejemplo al aumentar la tolerancia, menor será el error de truncamiento y se aunmentará la precisión. "
      ],
      "metadata": {
        "id": "Rdx5b2vrN-2a"
      }
    },
    {
      "cell_type": "markdown",
      "source": [],
      "metadata": {
        "id": "sXZ_39324bEh"
      }
    },
    {
      "cell_type": "code",
      "source": [],
      "metadata": {
        "id": "SO2Jo8YKVoLi"
      },
      "execution_count": null,
      "outputs": []
    }
  ]
}