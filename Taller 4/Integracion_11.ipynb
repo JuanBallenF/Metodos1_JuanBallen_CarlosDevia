{
 "cells": [
  {
   "cell_type": "code",
   "execution_count": 14,
   "id": "3969e849",
   "metadata": {},
   "outputs": [],
   "source": [
    "import numpy as np\n",
    "import sympy as sym"
   ]
  },
  {
   "cell_type": "code",
   "execution_count": 204,
   "id": "c8c3dbcc",
   "metadata": {},
   "outputs": [],
   "source": [
    "class Integrator:\n",
    "    \n",
    "    def __init__(self, x,y,fun):\n",
    "        \n",
    "        self.fun = fun\n",
    "        self.x = x\n",
    "        self.y = y\n",
    "        self.h = (1 - (-1))/3\n",
    "\n",
    "        self.integral = 0.\n",
    "        \n",
    "    def Simpson(self):\n",
    "        \n",
    "        self.integral = 0.\n",
    "        \n",
    "        self.integral += self.y[0] + self.y[-1]\n",
    "        \n",
    "        for i in range( len(y[1:-1]) ):\n",
    "            if i%2 == 0:\n",
    "                self.integral += 4*y[i+1]\n",
    "            else:\n",
    "                self.integral += 2*y[i+1]\n",
    "                \n",
    "        return self.integral*self.h/3\n",
    "    \n",
    "    def Simpson_3_8(self):\n",
    "        \n",
    "        self.integral = 0.\n",
    "        \n",
    "        i1 = ((2*(-1) + 1)/3)\n",
    "        i2 = (((-1) + 2*1)/3)\n",
    "        \n",
    "        self.integral += self.y[0] + self.y[-1]\n",
    "         \n",
    "        self.integral += 3*(self.fun(i1))\n",
    "        \n",
    "        self.integral += 3*(self.fun(i2))\n",
    "        \n",
    "        return self.integral*((3*self.h)/8)"
   ]
  },
  {
   "cell_type": "markdown",
   "id": "9c3cd577",
   "metadata": {},
   "source": [
    "$$ \\int_{-1}^{1} \\sqrt{1 + e^{-{x^2}} } dx $$"
   ]
  },
  {
   "cell_type": "code",
   "execution_count": 201,
   "id": "7151d212",
   "metadata": {},
   "outputs": [],
   "source": [
    "fun = lambda x: np.sqrt(1 + np.e**-(x**2))\n",
    "x = np.linspace(-1,1,99)\n",
    "y = fun(x)"
   ]
  },
  {
   "cell_type": "code",
   "execution_count": 205,
   "id": "cb02de95",
   "metadata": {},
   "outputs": [],
   "source": [
    "int_ = Integrator(x,y,fun)"
   ]
  },
  {
   "cell_type": "code",
   "execution_count": 206,
   "id": "6acc2cbc",
   "metadata": {},
   "outputs": [
    {
     "data": {
      "text/plain": [
       "2.649579329907684"
      ]
     },
     "execution_count": 206,
     "metadata": {},
     "output_type": "execute_result"
    }
   ],
   "source": [
    "int_.Simpson_3_8()"
   ]
  }
 ],
 "metadata": {
  "kernelspec": {
   "display_name": "Python 3 (ipykernel)",
   "language": "python",
   "name": "python3"
  },
  "language_info": {
   "codemirror_mode": {
    "name": "ipython",
    "version": 3
   },
   "file_extension": ".py",
   "mimetype": "text/x-python",
   "name": "python",
   "nbconvert_exporter": "python",
   "pygments_lexer": "ipython3",
   "version": "3.9.12"
  }
 },
 "nbformat": 4,
 "nbformat_minor": 5
}
