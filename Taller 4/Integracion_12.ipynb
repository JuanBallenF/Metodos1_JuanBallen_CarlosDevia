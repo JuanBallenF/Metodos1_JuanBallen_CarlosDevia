{
 "cells": [
  {
   "cell_type": "code",
   "execution_count": 1,
   "id": "95c52091",
   "metadata": {},
   "outputs": [],
   "source": [
    "import numpy as np\n",
    "import sympy as sym"
   ]
  },
  {
   "cell_type": "markdown",
   "id": "90d671cc",
   "metadata": {},
   "source": [
    "$$ \\int_{1}^{2} \\frac{1}{x^2} dx $$"
   ]
  },
  {
   "cell_type": "markdown",
   "id": "5f773b57",
   "metadata": {},
   "source": [
    "# Dos Puntos"
   ]
  },
  {
   "cell_type": "code",
   "execution_count": 87,
   "id": "30ec9cee",
   "metadata": {},
   "outputs": [],
   "source": [
    "fun = lambda x: 1/x**2\n",
    "dfun = lambda x: (-2/x**3)"
   ]
  },
  {
   "cell_type": "code",
   "execution_count": 88,
   "id": "9984736c",
   "metadata": {},
   "outputs": [],
   "source": [
    "x1 = ((2-1)/2)*(-1/np.sqrt(3)) + (2+1)/2\n",
    "x2 = ((2-1)/2)*(1/np.sqrt(3)) + (2+1)/2\n",
    "\n",
    "int_ = ((2-1)/2)*(1*fun(x1) + 1*fun(x2))"
   ]
  },
  {
   "cell_type": "code",
   "execution_count": 89,
   "id": "ade7a7c3",
   "metadata": {},
   "outputs": [
    {
     "data": {
      "text/plain": [
       "0.4970414201183432"
      ]
     },
     "execution_count": 89,
     "metadata": {},
     "output_type": "execute_result"
    }
   ],
   "source": [
    "int_"
   ]
  },
  {
   "cell_type": "markdown",
   "id": "4142ccce",
   "metadata": {},
   "source": [
    "# Tres Puntos"
   ]
  },
  {
   "cell_type": "markdown",
   "id": "36b2235f",
   "metadata": {},
   "source": [
    "$$ \\int_{1}^{2} \\frac{1}{x^2} dx $$"
   ]
  },
  {
   "cell_type": "code",
   "execution_count": 84,
   "id": "d71ee4f9",
   "metadata": {},
   "outputs": [],
   "source": [
    "fun = lambda x: 1/x**2\n",
    "dfun = lambda x: (-2/x**3)"
   ]
  },
  {
   "cell_type": "code",
   "execution_count": 85,
   "id": "954ad44b",
   "metadata": {},
   "outputs": [],
   "source": [
    "x1 = ((2-1)/2)*(-np.sqrt(3/5)) + (2+1)/2\n",
    "x2 = ((2-1)/2)*(0) + (2+1)/2\n",
    "x3 = ((2-1)/2)*(np.sqrt(3/5)) + (2+1)/2\n",
    "\n",
    "int_ = ((2-1)/2)*((5/9)*fun(x1) + (8/9)*fun(x2) + (5/9)*fun(x3))"
   ]
  },
  {
   "cell_type": "code",
   "execution_count": 86,
   "id": "71e18478",
   "metadata": {},
   "outputs": [
    {
     "data": {
      "text/plain": [
       "0.4998740236835475"
      ]
     },
     "execution_count": 86,
     "metadata": {},
     "output_type": "execute_result"
    }
   ],
   "source": [
    "int_"
   ]
  }
 ],
 "metadata": {
  "kernelspec": {
   "display_name": "Python 3 (ipykernel)",
   "language": "python",
   "name": "python3"
  },
  "language_info": {
   "codemirror_mode": {
    "name": "ipython",
    "version": 3
   },
   "file_extension": ".py",
   "mimetype": "text/x-python",
   "name": "python",
   "nbconvert_exporter": "python",
   "pygments_lexer": "ipython3",
   "version": "3.9.12"
  }
 },
 "nbformat": 4,
 "nbformat_minor": 5
}
