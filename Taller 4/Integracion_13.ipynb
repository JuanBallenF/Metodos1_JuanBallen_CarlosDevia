{
 "cells": [
  {
   "cell_type": "code",
   "execution_count": 1,
   "id": "e55fef84",
   "metadata": {},
   "outputs": [],
   "source": [
    "import numpy as np\n",
    "import sympy as sym"
   ]
  },
  {
   "cell_type": "code",
   "execution_count": 30,
   "id": "9da24caf",
   "metadata": {},
   "outputs": [],
   "source": [
    "def GetLegendre(n):\n",
    "    \n",
    "    x = sym.Symbol('x',Real=True)\n",
    "    y = sym.Symbol('y',Real=True)\n",
    "    \n",
    "    y = (x**2 - 1)**n\n",
    "    \n",
    "    p = sym.diff(y,x,n)/(2**n * np.math.factorial(n))\n",
    "    \n",
    "    return p"
   ]
  },
  {
   "cell_type": "markdown",
   "id": "18f87544",
   "metadata": {},
   "source": [
    "$$ p(x) = 3 + 5x + x^2 $$"
   ]
  },
  {
   "cell_type": "code",
   "execution_count": 83,
   "id": "9df62030",
   "metadata": {},
   "outputs": [],
   "source": [
    "x = sym.Symbol('x',Real=True)\n",
    "p = lambda x: 3 + 5*x + x**2\n",
    "fun = p(x)"
   ]
  },
  {
   "cell_type": "code",
   "execution_count": 113,
   "id": "c581db8e",
   "metadata": {},
   "outputs": [],
   "source": [
    "x0 = np.linspace(-1,1,1000)\n",
    "\n",
    "p0 = GetLegendre(0)\n",
    "p_0 = sym.lambdify([x],p0, 'numpy')(x0)\n",
    "\n",
    "p1 = GetLegendre(1)\n",
    "p_1 = sym.lambdify([x],p1, 'numpy')(x0)\n",
    "\n",
    "p2 = GetLegendre(2)\n",
    "p_2 = sym.lambdify([x],p2, 'numpy')(x0)\n",
    "\n",
    "y0 = p(x0)*p_0\n",
    "a0 = ((2*0 + 1)/2)*np.trapz(y0,x0)\n",
    "\n",
    "y1 = p(x0)*p_1\n",
    "a1 = ((2*1 + 1)/2)*np.trapz(y1,x0)\n",
    "\n",
    "y2 = p(x0)*p_2\n",
    "a2 = ((2*2 + 1)/2)*np.trapz(y2,x0)"
   ]
  },
  {
   "cell_type": "code",
   "execution_count": 126,
   "id": "2c8ce33d",
   "metadata": {},
   "outputs": [
    {
     "data": {
      "text/latex": [
       "$\\displaystyle 3.33333400133534 p_{0} + 5.00001002003004 p_{1} + 0.666690046732744 p_{2}$"
      ],
      "text/plain": [
       "3.33333400133534*p0 + 5.00001002003004*p1 + 0.666690046732744*p2"
      ]
     },
     "execution_count": 126,
     "metadata": {},
     "output_type": "execute_result"
    }
   ],
   "source": [
    "a = sym.Symbol('p0')\n",
    "b = sym.Symbol('p1')\n",
    "c = sym.Symbol('p2')\n",
    "\n",
    "poly = a0*a + a1*b + a2*c\n",
    "poly"
   ]
  },
  {
   "cell_type": "markdown",
   "id": "b4fefc3c",
   "metadata": {},
   "source": [
    "Comprobración:"
   ]
  },
  {
   "cell_type": "code",
   "execution_count": 127,
   "id": "46d7b306",
   "metadata": {},
   "outputs": [
    {
     "data": {
      "text/latex": [
       "$\\displaystyle 1.00003507009912 x^{2} + 5.00001002003004 x + 2.99998897796896$"
      ],
      "text/plain": [
       "1.00003507009912*x**2 + 5.00001002003004*x + 2.99998897796896"
      ]
     },
     "execution_count": 127,
     "metadata": {},
     "output_type": "execute_result"
    }
   ],
   "source": [
    "a0*p0 + a1*p1 + a2*p2"
   ]
  }
 ],
 "metadata": {
  "kernelspec": {
   "display_name": "Python 3 (ipykernel)",
   "language": "python",
   "name": "python3"
  },
  "language_info": {
   "codemirror_mode": {
    "name": "ipython",
    "version": 3
   },
   "file_extension": ".py",
   "mimetype": "text/x-python",
   "name": "python",
   "nbconvert_exporter": "python",
   "pygments_lexer": "ipython3",
   "version": "3.9.12"
  }
 },
 "nbformat": 4,
 "nbformat_minor": 5
}
