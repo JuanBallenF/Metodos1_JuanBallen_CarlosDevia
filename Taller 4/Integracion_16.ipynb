{
 "cells": [
  {
   "cell_type": "code",
   "execution_count": 1,
   "id": "64ff946f",
   "metadata": {},
   "outputs": [],
   "source": [
    "import numpy as np\n",
    "import sympy as sym\n",
    "import matplotlib.pyplot as plt"
   ]
  },
  {
   "cell_type": "code",
   "execution_count": 37,
   "id": "096d26a7",
   "metadata": {},
   "outputs": [],
   "source": [
    "def GetNewtonMethod(f,df,xn,itmax = 100000, precision=1e-12):\n",
    "    \n",
    "    error = 1.\n",
    "    it = 0\n",
    "    \n",
    "    while error > precision and it < itmax:\n",
    "        \n",
    "        try:\n",
    "            \n",
    "            xn1 = xn - f(xn)/df(xn)\n",
    "            \n",
    "            error = np.abs(f(xn)/df(xn))\n",
    "        \n",
    "        except ZeroDivisionError:\n",
    "            print(\"zero division\")\n",
    "            \n",
    "        xn  = xn1\n",
    "        it += 1\n",
    "    \n",
    "    \n",
    "    if it == itmax:\n",
    "        return False\n",
    "    else:\n",
    "        return xn\n",
    "    \n",
    "def GetAllRootsLaguerre(f,df,n, tolerancia=9):\n",
    "    \n",
    "    Roots = np.array([])\n",
    "    x_lim = 100\n",
    "    \n",
    "    while len(Roots) != n:\n",
    "\n",
    "        x_lim += 300\n",
    "        x = np.linspace(0,x_lim,x_lim)\n",
    "\n",
    "    \n",
    "    \n",
    "    \n",
    "        for i in x:\n",
    "        \n",
    "            root = GetNewtonMethod(f,df,i)\n",
    "          \n",
    "            if root != False:\n",
    "            \n",
    "                croot = np.round( root, tolerancia ) \n",
    "            \n",
    "                if croot not in Roots:\n",
    "                    Roots = np.append( Roots, croot )\n",
    "                \n",
    "        Roots.sort()\n",
    "\n",
    "    return Roots"
   ]
  },
  {
   "cell_type": "code",
   "execution_count": 28,
   "id": "a18beb54",
   "metadata": {},
   "outputs": [],
   "source": [
    "def GetLaguerre(n):\n",
    "    \n",
    "    x = sym.Symbol('x',Real=True)\n",
    "    y = sym.Symbol('y',Real=True)\n",
    "    \n",
    "    y = sym.exp(-x)*x**n\n",
    "    \n",
    "    p = sym.exp(x)*sym.diff(y,x,n)/(np.math.factorial(n))\n",
    "    \n",
    "    return p"
   ]
  },
  {
   "cell_type": "markdown",
   "id": "eab4e730",
   "metadata": {},
   "source": [
    "$$ \\int_{0}^{\\infty} \\frac {x^3}{e^x - 1} dx $$"
   ]
  },
  {
   "cell_type": "code",
   "execution_count": 96,
   "id": "55ffd49d",
   "metadata": {},
   "outputs": [],
   "source": [
    "X = sym.Symbol('x',Real=True)\n",
    "fun = lambda x: (x**3)/((np.e**x) - 1)\n",
    "dfun = sym.diff(fun(X),X)\n",
    "g = lambda x: ((x**3)/((np.e**x) - 1))*np.e**x\n",
    "n = 3"
   ]
  },
  {
   "cell_type": "code",
   "execution_count": 98,
   "id": "f3754424",
   "metadata": {},
   "outputs": [],
   "source": [
    "\n",
    "def GaussLaguerre(fun, dfun, X, g, n):\n",
    "    p3 = GetLaguerre(n)\n",
    "    dp3 = sym.diff(p3,X)\n",
    "\n",
    "    f = sym.lambdify([X],p3, 'numpy')\n",
    "    df = sym.lambdify([X],dp3, 'numpy')\n",
    "\n",
    "    Roots = (GetAllRootsLaguerre(f,df,n))\n",
    "\n",
    "    p4 = GetLaguerre(n+1)\n",
    "    p_4 = sym.lambdify([X],p4, 'numpy')\n",
    "    \n",
    "    \n",
    "    weights = []\n",
    "\n",
    "    for i in range(len(Roots)):\n",
    "        w = Roots[i]/(((n+1)**2) * (p_4(Roots[i])**2))\n",
    "        weights.append(w)\n",
    "        \n",
    "    int_ = 0\n",
    "    for i in range(len(weights)):\n",
    "        int_ += weights[i]*g(Roots[i])\n",
    "        \n",
    "    return int_"
   ]
  },
  {
   "cell_type": "code",
   "execution_count": 113,
   "id": "8ee510e4",
   "metadata": {},
   "outputs": [
    {
     "data": {
      "text/plain": [
       "6.481130172997595"
      ]
     },
     "execution_count": 113,
     "metadata": {},
     "output_type": "execute_result"
    }
   ],
   "source": [
    "int_ = GaussLaguerre(fun,dfun,X,g,n)\n",
    "int_"
   ]
  },
  {
   "cell_type": "code",
   "execution_count": null,
   "id": "3c0fb5f2",
   "metadata": {},
   "outputs": [],
   "source": []
  },
  {
   "cell_type": "code",
   "execution_count": 114,
   "id": "7abba4d1",
   "metadata": {},
   "outputs": [],
   "source": [
    "points = [2,3,4,5,6,7,8,9,10]\n",
    "weight_n = []\n",
    "\n",
    "for i in points:\n",
    "    weight_n.append(GaussLaguerre(fun,dfun,X,g,i)/int_)"
   ]
  },
  {
   "cell_type": "code",
   "execution_count": 115,
   "id": "527e1186",
   "metadata": {},
   "outputs": [
    {
     "data": {
      "text/plain": [
       "<matplotlib.legend.Legend at 0x206d65e0460>"
      ]
     },
     "execution_count": 115,
     "metadata": {},
     "output_type": "execute_result"
    },
    {
     "data": {
      "image/png": "[encoded data removed]",
      "text/plain": [
       "<Figure size 432x288 with 1 Axes>"
      ]
     },
     "metadata": {
      "needs_background": "light"
     },
     "output_type": "display_data"
    }
   ],
   "source": [
    "fig = plt.figure()\n",
    "\n",
    "ax = fig.add_subplot(1,1,1)\n",
    "ax.scatter(points,weight_n, label='Laguerre Quadrature Accuracy')\n",
    "plt.xlabel('n')\n",
    "plt.ylabel('ϵ(n)')\n",
    "\n",
    "plt.grid()\n",
    "plt.legend()"
   ]
  }
 ],
 "metadata": {
  "kernelspec": {
   "display_name": "Python 3 (ipykernel)",
   "language": "python",
   "name": "python3"
  },
  "language_info": {
   "codemirror_mode": {
    "name": "ipython",
    "version": 3
   },
   "file_extension": ".py",
   "mimetype": "text/x-python",
   "name": "python",
   "nbconvert_exporter": "python",
   "pygments_lexer": "ipython3",
   "version": "3.9.12"
  }
 },
 "nbformat": 4,
 "nbformat_minor": 5
}
