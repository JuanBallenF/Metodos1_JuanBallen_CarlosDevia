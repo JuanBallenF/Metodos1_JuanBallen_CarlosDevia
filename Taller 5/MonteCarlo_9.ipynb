{
 "cells": [
  {
   "cell_type": "code",
   "execution_count": 2,
   "id": "86284ada",
   "metadata": {},
   "outputs": [],
   "source": [
    "import numpy as np\n",
    "import matplotlib.pyplot as plt"
   ]
  },
  {
   "cell_type": "markdown",
   "id": "a4cb4229",
   "metadata": {},
   "source": [
    "$$ \\int_{0}^{1} ... \\int_{0}^{1} 2^{-7}\\left( \\sum_{i=1}^{8} x_{i} \\right)^2 dx_{1}dx_2 ...dx_8 = \\frac{25}{192} $$"
   ]
  },
  {
   "cell_type": "code",
   "execution_count": 3,
   "id": "a85cc49b",
   "metadata": {},
   "outputs": [],
   "source": [
    "def f(x1,x2,x3,x4,x5,x6,x7,x8):\n",
    "    return (2**(-7))*(x1 + x2 + x3 + x4 + x5 + x6 + x7 + x8)**2\n",
    "\n",
    "def MCIntegral(a, b, N = 10000, dim = 8):\n",
    "    \n",
    "    x = np.random.uniform(a, b, (N, dim))\n",
    "    y = []\n",
    "    for i in range(len(x)):\n",
    "        y.append(f(x[i][0],x[i][1],x[i][2],x[i][3],x[i][4],x[i][5],x[i][6],x[i][7]))\n",
    "    \n",
    "    return np.mean( y )*(b-a)"
   ]
  },
  {
   "cell_type": "code",
   "execution_count": 4,
   "id": "0392011f",
   "metadata": {},
   "outputs": [
    {
     "name": "stdout",
     "output_type": "stream",
     "text": [
      "0.13030754739517428 0.13020833333333334\n"
     ]
    }
   ],
   "source": [
    "int_ = MCIntegral(0,1,1000000,8)\n",
    "\n",
    "print(int_,(25/192))"
   ]
  },
  {
   "cell_type": "code",
   "execution_count": null,
   "id": "0c71fe32",
   "metadata": {},
   "outputs": [],
   "source": []
  }
 ],
 "metadata": {
  "kernelspec": {
   "display_name": "Python 3 (ipykernel)",
   "language": "python",
   "name": "python3"
  },
  "language_info": {
   "codemirror_mode": {
    "name": "ipython",
    "version": 3
   },
   "file_extension": ".py",
   "mimetype": "text/x-python",
   "name": "python",
   "nbconvert_exporter": "python",
   "pygments_lexer": "ipython3",
   "version": "3.9.12"
  }
 },
 "nbformat": 4,
 "nbformat_minor": 5
}
