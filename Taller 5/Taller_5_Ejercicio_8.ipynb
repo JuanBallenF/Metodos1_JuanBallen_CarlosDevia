{
  "nbformat": 4,
  "nbformat_minor": 0,
  "metadata": {
    "colab": {
      "provenance": []
    },
    "kernelspec": {
      "name": "python3",
      "display_name": "Python 3"
    },
    "language_info": {
      "name": "python"
    }
  },
  "cells": [
    {
      "cell_type": "code",
      "execution_count": 4,
      "metadata": {
        "id": "wnhaAfQLvR9v",
        "colab": {
          "base_uri": "https://localhost:8080/",
          "height": 130
        },
        "outputId": "d6a3a4b1-d88a-4d36-b2bc-acdf051dd411"
      },
      "outputs": [
        {
          "output_type": "error",
          "ename": "SyntaxError",
          "evalue": "ignored",
          "traceback": [
            "\u001b[0;36m  File \u001b[0;32m\"<ipython-input-4-672bbd02f69e>\"\u001b[0;36m, line \u001b[0;32m21\u001b[0m\n\u001b[0;31m    sol = ((r(alfa+beta)/r(alfa)r(beta))*x(alfa-1)(1-x)**(beta-1))\u001b[0m\n\u001b[0m                                ^\u001b[0m\n\u001b[0;31mSyntaxError\u001b[0m\u001b[0;31m:\u001b[0m invalid syntax\n"
          ]
        }
      ],
      "source": [
        "import numpy as np\n",
        "import random\n",
        "import matplotlib.pyplot as plt\n",
        "import math\n",
        "\n",
        "a = 0\n",
        "b = 1\n",
        "n = 100000\n",
        "alfa = 2\n",
        "beta = 3\n",
        "\n",
        "\n",
        "xi = np.linspace(a,b,n)\n",
        "x = np.linspace(a,b,n)\n",
        "\n",
        "#ur = random.uniform()\n",
        "def r(n):\n",
        "  return math.factorial(n-1)\n",
        "\n",
        "def f(x,alf,bet):\n",
        "    sol = ((r(alfa+beta)/r(alfa)r(beta))*x(alfa-1)(1-x)**(beta-1))\n",
        "    return sol\n",
        "\n",
        "max = np.max(f(xi,alfa, beta))\n",
        "\n",
        "\n",
        "j = 0\n",
        "  \n",
        "Yrechazo =[]\n",
        "Yaceptado =[]\n",
        "Urechazo = []\n",
        "Uaceptado = []\n",
        "\n",
        "yi = np.linspace(0,max,n) \n",
        "limy = np.array([ max for i in range(n) ])\n",
        "\n",
        "for i in range (n):\n",
        "  u = np.random.uniform(a,b)\n",
        "  y = np.random.uniform(0,max)\n",
        "  if y <= f(u,alfa, beta):\n",
        "    Yaceptado.append(y)\n",
        "    Uaceptado.append(u)\n",
        "    i = i + 1\n",
        "    \n",
        "  else:\n",
        "    Yrechazo.append(y)\n",
        "    Urechazo.append(u)\n",
        "    i = i + 1\n",
        "    \n",
        "  \n",
        "plt.plot(Urechazo,Yrechazo,'ro')\n",
        "plt.plot(Uaceptado,Yaceptado,'go')\n",
        "\n",
        "plt.plot(xi,f(xi,alfa, beta))\n",
        "plt.plot(x, limy)\n",
        "plt.show()\n",
        "\n",
        "\n",
        "\n",
        "\n",
        "\n",
        "\n",
        "\n",
        "\n",
        "\n",
        "\n",
        "\n",
        "\n",
        "\n",
        "\n",
        "\n",
        "\n",
        "\n",
        "\n",
        "\n",
        "\n",
        "\n",
        "\n",
        "\n",
        "\n",
        "\n",
        "\n",
        "\n",
        "\n",
        "\n",
        "\n",
        "\n",
        "\n",
        "\n",
        "\n",
        "\n",
        "\n"
      ]
    }
  ]
}