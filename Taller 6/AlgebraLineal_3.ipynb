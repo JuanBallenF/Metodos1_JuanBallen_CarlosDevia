{
 "cells": [
  {
   "cell_type": "code",
   "execution_count": 1,
   "id": "2bfe8b5e",
   "metadata": {},
   "outputs": [],
   "source": [
    "import numpy as np"
   ]
  },
  {
   "cell_type": "markdown",
   "id": "31235ad9",
   "metadata": {},
   "source": [
    "$$AB = \\begin{pmatrix}\n",
    "1 & 0 & 0 \\\\ \n",
    "5 & 1 & 0 \\\\\n",
    "-2 & 3 & 1 \\\\\n",
    "\\end{pmatrix}\n",
    "\\begin{pmatrix}\n",
    "4 & -2 & 1\\\\ \n",
    "0 & 3 & 7\\\\ \n",
    "0&0&2\\\\ \n",
    "\\end{pmatrix}\n",
    "=\\begin{pmatrix}\n",
    "4&-2&1\\\\\n",
    "20&-7&12\\\\\n",
    "-8&13&21\\\\\n",
    "\\end{pmatrix}$$"
   ]
  },
  {
   "cell_type": "code",
   "execution_count": 22,
   "id": "6122e7c3",
   "metadata": {},
   "outputs": [],
   "source": [
    "def GetMatrixMultiplication(M1,M2):\n",
    "    \n",
    "    colM1 = len(M1[0])\n",
    "    rowsM1 = len(M1)\n",
    "    colM2 = len(M2[0])\n",
    "    rowsM2 = len(M2)\n",
    "    \n",
    "    if colM1 != rowsM2:\n",
    "        print('No se pueden multiplicar')\n",
    "        return None\n",
    "    \n",
    "    sol = np.zeros((rowsM1,colM2))\n",
    "    \n",
    "    for i in range(rowsM1):      \n",
    "        \n",
    "        for j in range(colM2):\n",
    "            \n",
    "            sum_ = 0\n",
    "            for a in range(rowsM1):\n",
    "                \n",
    "                sum_ += M1[i][a]*M2[a][j]\n",
    "                \n",
    "            sol[i][j] = sum_\n",
    "            \n",
    "    return sol"
   ]
  },
  {
   "cell_type": "code",
   "execution_count": 35,
   "id": "f0c26f4a",
   "metadata": {},
   "outputs": [
    {
     "name": "stdout",
     "output_type": "stream",
     "text": [
      "[[ 1  0  0]\n",
      " [ 5  1  0]\n",
      " [-2  3  1]]\n",
      "[[ 4 -2  1]\n",
      " [ 0  3  7]\n",
      " [ 0  0  2]]\n"
     ]
    }
   ],
   "source": [
    "M1 = np.array(([1,0,0],[5,1,0],[-2,3,1]))\n",
    "M2 = np.array(([4,-2,1],[0,3,7],[0,0,2]))\n",
    "\n",
    "print(M1)\n",
    "print(M2)"
   ]
  },
  {
   "cell_type": "code",
   "execution_count": 36,
   "id": "beed2740",
   "metadata": {},
   "outputs": [
    {
     "name": "stdout",
     "output_type": "stream",
     "text": [
      "[[ 4. -2.  1.]\n",
      " [20. -7. 12.]\n",
      " [-8. 13. 21.]]\n"
     ]
    }
   ],
   "source": [
    "sol = GetMatrixMultiplication(M1,M2)\n",
    "\n",
    "print(sol)"
   ]
  }
 ],
 "metadata": {
  "kernelspec": {
   "display_name": "Python 3 (ipykernel)",
   "language": "python",
   "name": "python3"
  },
  "language_info": {
   "codemirror_mode": {
    "name": "ipython",
    "version": 3
   },
   "file_extension": ".py",
   "mimetype": "text/x-python",
   "name": "python",
   "nbconvert_exporter": "python",
   "pygments_lexer": "ipython3",
   "version": "3.9.12"
  }
 },
 "nbformat": 4,
 "nbformat_minor": 5
}
