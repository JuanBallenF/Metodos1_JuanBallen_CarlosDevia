{
 "cells": [
  {
   "cell_type": "code",
   "execution_count": 3,
   "id": "ada0e1b9",
   "metadata": {},
   "outputs": [],
   "source": [
    "import numpy as np"
   ]
  },
  {
   "cell_type": "code",
   "execution_count": 131,
   "id": "d3b930ef",
   "metadata": {},
   "outputs": [
    {
     "name": "stdout",
     "output_type": "stream",
     "text": [
      "[[ 3  1  0  1]\n",
      " [ 1  2  1  1]\n",
      " [-1  0  2 -1]]\n"
     ]
    }
   ],
   "source": [
    "b = np.array([-3,-3,8,9])\n",
    "A = np.array([[3,1,-1],[1,2,0],[0,1,2],[1,1,-1]]) \n",
    "\n",
    "\n",
    "M = np.array([[3,1,0,1],[1,2,1,1],[-1,0,2,-1]])\n",
    "print(M)"
   ]
  },
  {
   "cell_type": "markdown",
   "id": "102d84ec",
   "metadata": {},
   "source": [
    "# Mínimos Cuadrados"
   ]
  },
  {
   "cell_type": "code",
   "execution_count": 133,
   "id": "4a4b58b1",
   "metadata": {},
   "outputs": [],
   "source": [
    "\n",
    "def GetFit(x,y):\n",
    " \n",
    "    b = y\n",
    "\n",
    "    AT = np.dot(x.T,x)\n",
    "    bT = x.T @ b\n",
    "\n",
    "    xsol = np.linalg.solve(AT,bT)\n",
    "    \n",
    "    return xsol\n"
   ]
  },
  {
   "cell_type": "code",
   "execution_count": 134,
   "id": "8157d1a3",
   "metadata": {},
   "outputs": [
    {
     "data": {
      "text/plain": [
       "array([-1.,  2.,  1.])"
      ]
     },
     "execution_count": 134,
     "metadata": {},
     "output_type": "execute_result"
    }
   ],
   "source": [
    "z=GetFit(A,b)\n",
    "z"
   ]
  },
  {
   "cell_type": "code",
   "execution_count": 135,
   "id": "60af25a6",
   "metadata": {},
   "outputs": [
    {
     "name": "stdout",
     "output_type": "stream",
     "text": [
      "[-2.00000000e+00  3.00000000e+00  4.00000000e+00  1.11022302e-16]\n",
      "[-2.  3.  4.  0.]\n"
     ]
    }
   ],
   "source": [
    "projection = np.dot(A,z)\n",
    "print(projection)\n",
    "print(np.round(projection))"
   ]
  },
  {
   "cell_type": "markdown",
   "id": "18c27ea0",
   "metadata": {},
   "source": [
    "# Gram-Schmidt"
   ]
  },
  {
   "cell_type": "code",
   "execution_count": 136,
   "id": "588f6e8c",
   "metadata": {},
   "outputs": [],
   "source": [
    "\n",
    "def GramSchmidt(V):\n",
    "    \n",
    "    Base = np.zeros((V.shape[0],V.shape[1]))\n",
    "    \n",
    "    Base[0] = V[0]\n",
    "    \n",
    "    vectors = 0\n",
    "    \n",
    "    for i in range(len(V)):\n",
    "        Base[i] = V[i]\n",
    "        \n",
    "        for j in range(i):\n",
    "            Base[i] = Base[i] - (np.dot(V[i],Base[j]))/(np.dot(Base[j],Base[j]))*Base[j]\n",
    "            \n",
    "    for k in range(len(Base)):\n",
    "        Norm = np.linalg.norm(Base[k])\n",
    "        Base[k] = Base[k]/Norm\n",
    "    \n",
    "    return Base\n",
    "        "
   ]
  },
  {
   "cell_type": "code",
   "execution_count": 137,
   "id": "e2161205",
   "metadata": {},
   "outputs": [],
   "source": [
    "Base = GramSchmidt(M)"
   ]
  },
  {
   "cell_type": "code",
   "execution_count": 138,
   "id": "513e8444",
   "metadata": {},
   "outputs": [
    {
     "name": "stdout",
     "output_type": "stream",
     "text": [
      "[-2.  3.  4.  0.]\n"
     ]
    }
   ],
   "source": [
    "Proy = (np.dot(b,Base[0]))*Base[0] + (np.dot(b,Base[1]))*Base[1] + (np.dot(b,Base[2]))*Base[2]\n",
    "print(Proy)"
   ]
  }
 ],
 "metadata": {
  "kernelspec": {
   "display_name": "Python 3 (ipykernel)",
   "language": "python",
   "name": "python3"
  },
  "language_info": {
   "codemirror_mode": {
    "name": "ipython",
    "version": 3
   },
   "file_extension": ".py",
   "mimetype": "text/x-python",
   "name": "python",
   "nbconvert_exporter": "python",
   "pygments_lexer": "ipython3",
   "version": "3.9.12"
  }
 },
 "nbformat": 4,
 "nbformat_minor": 5
}
