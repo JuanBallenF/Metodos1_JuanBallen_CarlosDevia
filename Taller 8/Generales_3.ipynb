{
 "cells": [
  {
   "cell_type": "code",
   "execution_count": 1,
   "id": "f11d0cd0",
   "metadata": {},
   "outputs": [],
   "source": [
    "import numpy as np\n",
    "import matplotlib.pyplot as plt"
   ]
  },
  {
   "cell_type": "markdown",
   "id": "ea695249",
   "metadata": {},
   "source": [
    "# a)"
   ]
  },
  {
   "cell_type": "markdown",
   "id": "f2526907",
   "metadata": {},
   "source": [
    "$$ P(A\\cup B) = P(A) + P(B) - P(A \\cap B) $$\n",
    "\n",
    "$$ P(A): Probabilidad \\: de \\:estar\\: suscrito\\: al \\:diario $$\n",
    "$$ P(B): Probabilidad \\: de \\:estar\\: suscrito\\: al \\:cable $$\n",
    "$$ P(A \\cap B): Probabilidad \\: de \\:estar\\: suscrito\\: a \\:ambos $$\n"
   ]
  },
  {
   "cell_type": "markdown",
   "id": "8c306e54",
   "metadata": {},
   "source": [
    "$$ P(A \\cup B) = (0.6) + (0.8) - (0.5) = 0.9 $$"
   ]
  },
  {
   "cell_type": "markdown",
   "id": "a57e7520",
   "metadata": {},
   "source": [
    "# b)"
   ]
  },
  {
   "cell_type": "markdown",
   "id": "e9fe6bc7",
   "metadata": {},
   "source": [
    "$$ P(A) - P(A \\cap B) = 0.6 - 0.5 = 0.1 $$"
   ]
  },
  {
   "cell_type": "markdown",
   "id": "143470ab",
   "metadata": {},
   "source": [
    "$$ P(B) - P(A \\cap B) = 0.8 - 0.5 = 0.3 $$"
   ]
  },
  {
   "cell_type": "markdown",
   "id": "3e14e491",
   "metadata": {},
   "source": [
    "$$ P((A \\cap B^c) \\cup (B \\cap A^c)) = 0.1 + 0.3 = 0.4 $$"
   ]
  }
 ],
 "metadata": {
  "kernelspec": {
   "display_name": "Python 3 (ipykernel)",
   "language": "python",
   "name": "python3"
  },
  "language_info": {
   "codemirror_mode": {
    "name": "ipython",
    "version": 3
   },
   "file_extension": ".py",
   "mimetype": "text/x-python",
   "name": "python",
   "nbconvert_exporter": "python",
   "pygments_lexer": "ipython3",
   "version": "3.9.12"
  }
 },
 "nbformat": 4,
 "nbformat_minor": 5
}
