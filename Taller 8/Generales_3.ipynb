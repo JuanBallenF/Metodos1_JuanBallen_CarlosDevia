{
 "cells": [
  {
   "cell_type": "code",
   "execution_count": 1,
   "id": "25fa1b97",
   "metadata": {},
   "outputs": [],
   "source": [
    "import numpy as np\n",
    "import matplotlib.pyplot as plt"
   ]
  },
  {
   "cell_type": "markdown",
   "id": "fb173b52",
   "metadata": {},
   "source": [
    "# a)"
   ]
  },
  {
   "cell_type": "markdown",
   "id": "75cd90fe",
   "metadata": {},
   "source": [
    "$$ P(A\\cup B) = P(A) + P(B) - P(A \\cap B) $$\n",
    "\n",
    "$$ P(A): Probabilidad \\: de \\:estar\\: suscrito\\: al \\:diario $$\n",
    "$$ P(B): Probabilidad \\: de \\:estar\\: suscrito\\: al \\:cable $$\n",
    "$$ P(A \\cap B): Probabilidad \\: de \\:estar\\: suscrito\\: a \\:ambos $$\n"
   ]
  },
  {
   "cell_type": "markdown",
   "id": "19b22538",
   "metadata": {},
   "source": [
    "$$ P(A \\cup B) = (0.6) + (0.8) - (0.5) = 0.9 $$"
   ]
  },
  {
   "cell_type": "markdown",
   "id": "769398d7",
   "metadata": {},
   "source": [
    "# b)"
   ]
  },
  {
   "cell_type": "markdown",
   "id": "9d1c7fb0",
   "metadata": {},
   "source": [
    "$$ P((A \\cap B^c) \\cup (B \\cap A^c)) = P(A) + P(B) -2P(A \\cap B) $$"
   ]
  },
  {
   "cell_type": "markdown",
   "id": "667d5241",
   "metadata": {},
   "source": [
    "$$ ((A \\cap B^c) \\cup (B \\cap A^c)) = 0.6 + 0.8 - 2(0.5) = 0.4$$"
   ]
  }
 ],
 "metadata": {
  "kernelspec": {
   "display_name": "Python 3 (ipykernel)",
   "language": "python",
   "name": "python3"
  },
  "language_info": {
   "codemirror_mode": {
    "name": "ipython",
    "version": 3
   },
   "file_extension": ".py",
   "mimetype": "text/x-python",
   "name": "python",
   "nbconvert_exporter": "python",
   "pygments_lexer": "ipython3",
   "version": "3.9.12"
  }
 },
 "nbformat": 4,
 "nbformat_minor": 5
}
