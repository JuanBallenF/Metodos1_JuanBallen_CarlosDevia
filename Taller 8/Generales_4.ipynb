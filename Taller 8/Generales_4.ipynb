{
 "cells": [
  {
   "cell_type": "code",
   "execution_count": 1,
   "id": "63edcdc9",
   "metadata": {},
   "outputs": [],
   "source": [
    "import numpy as np\n",
    "import matplotlib.pyplot as plt"
   ]
  },
  {
   "cell_type": "markdown",
   "id": "7f5b55ab",
   "metadata": {},
   "source": [
    "$$ P(N) = \\prod_{i=1}^{N}\\frac{365+(1-i)}{365} $$\n",
    "$$\\ $$\n",
    "$$ 1 \\leq N \\leq 365 $$\n",
    "$$\\ $$\n",
    "Cálculo de la probabilidad de que n personas NO tengan el mismo cumpleaños, donde N es el número de personas."
   ]
  },
  {
   "cell_type": "code",
   "execution_count": 107,
   "id": "ca5500e9",
   "metadata": {},
   "outputs": [],
   "source": [
    "# Probabilidad de que las n personas no tengan el mismo cumpleaños.\n",
    "\n",
    "def prob_diferente_cumpleaños(n): #n: Número de personas\n",
    "    \n",
    "    P = 1\n",
    "    a = 365\n",
    "    \n",
    "    for i in range(1,n):\n",
    "        \n",
    "        a -= 1\n",
    "        \n",
    "        P *= (a/365)\n",
    "        \n",
    "    return P"
   ]
  },
  {
   "cell_type": "code",
   "execution_count": 108,
   "id": "c10ce2af",
   "metadata": {},
   "outputs": [],
   "source": [
    "Probabilities = np.zeros((80,2))\n",
    "Prob = np.zeros((2,80))\n",
    "\n",
    "for i in range(80):\n",
    "    \n",
    "    Prob[0][i] = i+1\n",
    "    Prob[1][i] = prob_diferente_cumpleaños(i+1)*100\n",
    "\n",
    "#Prob"
   ]
  },
  {
   "cell_type": "code",
   "execution_count": 127,
   "id": "734038c0",
   "metadata": {},
   "outputs": [
    {
     "data": {
      "text/plain": [
       "Text(0.5, 1.0, 'Probabilidad en función del número de personas')"
      ]
     },
     "execution_count": 127,
     "metadata": {},
     "output_type": "execute_result"
    },
    {
     "data": {
      "image/png": "[encoded data removed]",
      "text/plain": [
       "<Figure size 504x504 with 1 Axes>"
      ]
     },
     "metadata": {
      "needs_background": "light"
     },
     "output_type": "display_data"
    }
   ],
   "source": [
    "fig = plt.figure(figsize=(7,7))\n",
    "ax = fig.add_subplot(1,1,1)\n",
    "\n",
    "ax.scatter(Prob[0],Prob[1])\n",
    "ax.set_ylabel('Pn', fontsize=20)\n",
    "ax.set_xlabel('Personas', fontsize=20)\n",
    "ax.set_title('Probabilidad en función del número de personas', fontsize=16)"
   ]
  }
 ],
 "metadata": {
  "kernelspec": {
   "display_name": "Python 3 (ipykernel)",
   "language": "python",
   "name": "python3"
  },
  "language_info": {
   "codemirror_mode": {
    "name": "ipython",
    "version": 3
   },
   "file_extension": ".py",
   "mimetype": "text/x-python",
   "name": "python",
   "nbconvert_exporter": "python",
   "pygments_lexer": "ipython3",
   "version": "3.9.12"
  }
 },
 "nbformat": 4,
 "nbformat_minor": 5
}
