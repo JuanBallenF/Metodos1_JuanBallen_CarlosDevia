{
 "cells": [
  {
   "cell_type": "code",
   "execution_count": 1,
   "id": "8088311b",
   "metadata": {},
   "outputs": [],
   "source": [
    "import numpy as np\n",
    "import matplotlib.pyplot as plt"
   ]
  },
  {
   "cell_type": "code",
   "execution_count": 12,
   "id": "39a21765",
   "metadata": {},
   "outputs": [],
   "source": [
    "\n",
    "#4 monedas.\n",
    "\n",
    "N = int(1e5)\n",
    "\n",
    "ncoins = 4\n",
    "events = [-1,1] #1: Cara, -1: Sello\n",
    "Sample = np.zeros((N,ncoins))\n",
    "\n",
    "for i in range(N):\n",
    "    \n",
    "    exp = np.random.choice(events, ncoins)\n",
    "    \n",
    "    Sample[i] = exp"
   ]
  },
  {
   "cell_type": "code",
   "execution_count": 13,
   "id": "78aed329",
   "metadata": {},
   "outputs": [
    {
     "name": "stdout",
     "output_type": "stream",
     "text": [
      "0.3763 0.375\n"
     ]
    }
   ],
   "source": [
    "events = 0\n",
    "\n",
    "for i in range(len(Sample)):\n",
    "    \n",
    "    NCaras = 0\n",
    "    NSellos = 0\n",
    "    \n",
    "    for j in range(ncoins):\n",
    "        \n",
    "        if Sample[i][j] == 1:\n",
    "            NCaras += 1\n",
    "        else:\n",
    "            NSellos += 1\n",
    "            \n",
    "    if (NCaras == 2) and (NSellos ==2):\n",
    "        \n",
    "        events += 1\n",
    "        \n",
    "print(events/N, 3/8)"
   ]
  }
 ],
 "metadata": {
  "kernelspec": {
   "display_name": "Python 3 (ipykernel)",
   "language": "python",
   "name": "python3"
  },
  "language_info": {
   "codemirror_mode": {
    "name": "ipython",
    "version": 3
   },
   "file_extension": ".py",
   "mimetype": "text/x-python",
   "name": "python",
   "nbconvert_exporter": "python",
   "pygments_lexer": "ipython3",
   "version": "3.9.12"
  }
 },
 "nbformat": 4,
 "nbformat_minor": 5
}
