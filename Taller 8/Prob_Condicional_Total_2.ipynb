{
 "cells": [
  {
   "cell_type": "code",
   "execution_count": 1,
   "id": "9e1a7f8f",
   "metadata": {},
   "outputs": [],
   "source": [
    "import numpy as np\n",
    "import matplotlib.pyplot as plt"
   ]
  },
  {
   "cell_type": "markdown",
   "id": "cb5b79a5",
   "metadata": {},
   "source": [
    "# a)"
   ]
  },
  {
   "cell_type": "code",
   "execution_count": 77,
   "id": "2592aa58",
   "metadata": {},
   "outputs": [],
   "source": [
    "\n",
    "N = int(1e4)\n",
    "\n",
    "Urn = np.array([1,2])\n",
    "PUrn = np.array([2/6,4/6])\n",
    "\n",
    "Color_1 = np.array([1,2,3]) #Red, Black, Green\n",
    "PColor_1 = np.array([3/10,1/10,6/10])\n",
    "\n",
    "Color_2 = np.array([1,2,3]) #Red, Black, Green\n",
    "PColor_2 = np.array([6/10,2/10,2/10])\n",
    "\n",
    "\n",
    "LUrn = np.zeros(N)\n",
    "\n",
    "Red = 0\n",
    "\n",
    "for i in range(N):\n",
    "    LUrn[i] = np.random.choice(Urn, p=PUrn)\n",
    "    \n",
    "    if LUrn[i] == 1:\n",
    "        \n",
    "        a = np.random.choice(Color_1, p=PColor_1)\n",
    "        if a == 1:\n",
    "            Red += 1\n",
    "            \n",
    "    else: \n",
    "        \n",
    "        a = np.random.choice(Color_2, p=PColor_2)\n",
    "        if a == 1:\n",
    "            Red += 1\n",
    "\n",
    "PR = Red/N"
   ]
  },
  {
   "cell_type": "code",
   "execution_count": 78,
   "id": "8330be48",
   "metadata": {},
   "outputs": [
    {
     "name": "stdout",
     "output_type": "stream",
     "text": [
      "0.5031 0.5\n"
     ]
    }
   ],
   "source": [
    "print(PR, 1/2)"
   ]
  },
  {
   "cell_type": "markdown",
   "id": "47f355f6",
   "metadata": {},
   "source": [
    "# b)"
   ]
  },
  {
   "cell_type": "code",
   "execution_count": 79,
   "id": "c9f2db18",
   "metadata": {},
   "outputs": [],
   "source": [
    "\n",
    "Black = 0\n",
    "LUrn = np.zeros(N)\n",
    "\n",
    "for i in range(N):\n",
    "    LUrn[i] = np.random.choice(Urn, p=PUrn)\n",
    "    \n",
    "    if LUrn[i] == 1:\n",
    "        \n",
    "        a = np.random.choice(Color_1, p=PColor_1)\n",
    "        if a == 2:\n",
    "            Black += 1\n",
    "            \n",
    "    else: \n",
    "        \n",
    "        a = np.random.choice(Color_2, p=PColor_2)\n",
    "        if a == 2:\n",
    "            Black += 1\n",
    "            \n",
    "PB = Black/N"
   ]
  },
  {
   "cell_type": "code",
   "execution_count": 80,
   "id": "7cd5d463",
   "metadata": {},
   "outputs": [
    {
     "name": "stdout",
     "output_type": "stream",
     "text": [
      "0.1675 0.16666666666666666\n"
     ]
    }
   ],
   "source": [
    "print(PB, 1/6)"
   ]
  },
  {
   "cell_type": "markdown",
   "id": "82e428fe",
   "metadata": {},
   "source": [
    "# c)"
   ]
  },
  {
   "cell_type": "code",
   "execution_count": 105,
   "id": "a9cdf1b2",
   "metadata": {},
   "outputs": [
    {
     "name": "stdout",
     "output_type": "stream",
     "text": [
      "0.2063283582089552 0.2\n"
     ]
    }
   ],
   "source": [
    "\n",
    "#Probabilidad de ser negra al ser de la urna 1 = 1/10.\n",
    "\n",
    "Urn1 = 0\n",
    "LUrn = np.zeros(N)\n",
    "\n",
    "#Probabilidad de ser de la Urna 1.\n",
    "for i in range(N):\n",
    "    \n",
    "    LUrn[i] = np.random.choice(Urn , p=PUrn)\n",
    "    \n",
    "    if LUrn[i] == 1:\n",
    "        Urn1 += 1\n",
    "        \n",
    "PUrn1 = Urn1/N\n",
    "\n",
    "\n",
    "#Teorema de Bayes\n",
    "P1_N = ((1/10)*PUrn1)/PB\n",
    "print(P1_N, 1/5)"
   ]
  },
  {
   "cell_type": "markdown",
   "id": "3342cecb",
   "metadata": {},
   "source": [
    "# d)"
   ]
  },
  {
   "cell_type": "code",
   "execution_count": 108,
   "id": "4a2136f8",
   "metadata": {},
   "outputs": [
    {
     "name": "stdout",
     "output_type": "stream",
     "text": [
      "0.8025074626865671 0.8\n"
     ]
    }
   ],
   "source": [
    "\n",
    "#Probabilidad de ser negra al ser de la urna 1 = 2/10.\n",
    "\n",
    "Urn2 = 0\n",
    "LUrn = np.zeros(N)\n",
    "\n",
    "#Probabilidad de ser de la Urna 2.\n",
    "for i in range(N):\n",
    "    \n",
    "    LUrn[i] = np.random.choice(Urn , p=PUrn)\n",
    "    \n",
    "    if LUrn[i] == 2:\n",
    "        Urn2 += 1\n",
    "        \n",
    "PUrn2 = Urn2/N\n",
    "\n",
    "\n",
    "#Teorema de Bayes\n",
    "P2_N = ((2/10)*PUrn2)/PB\n",
    "print(P2_N, 4/5)"
   ]
  }
 ],
 "metadata": {
  "kernelspec": {
   "display_name": "Python 3 (ipykernel)",
   "language": "python",
   "name": "python3"
  },
  "language_info": {
   "codemirror_mode": {
    "name": "ipython",
    "version": 3
   },
   "file_extension": ".py",
   "mimetype": "text/x-python",
   "name": "python",
   "nbconvert_exporter": "python",
   "pygments_lexer": "ipython3",
   "version": "3.9.12"
  }
 },
 "nbformat": 4,
 "nbformat_minor": 5
}
